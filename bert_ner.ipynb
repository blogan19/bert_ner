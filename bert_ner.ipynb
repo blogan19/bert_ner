{
  "cells": [
    {
      "cell_type": "code",
      "execution_count": null,
      "metadata": {
        "colab": {
          "base_uri": "https://localhost:8080/"
        },
        "id": "0g-bmYdivvMi",
        "outputId": "4f010a65-6f1c-4760-9c12-ea2f94b0132e"
      },
      "outputs": [
        {
          "output_type": "stream",
          "name": "stdout",
          "text": [
            "Looking in indexes: https://pypi.org/simple, https://us-python.pkg.dev/colab-wheels/public/simple/\n",
            "Collecting transformers\n",
            "  Downloading transformers-4.22.2-py3-none-any.whl (4.9 MB)\n",
            "\u001b[K     |████████████████████████████████| 4.9 MB 5.1 MB/s \n",
            "\u001b[?25hRequirement already satisfied: requests in /usr/local/lib/python3.7/dist-packages (from transformers) (2.23.0)\n",
            "Collecting tokenizers!=0.11.3,<0.13,>=0.11.1\n",
            "  Downloading tokenizers-0.12.1-cp37-cp37m-manylinux_2_12_x86_64.manylinux2010_x86_64.whl (6.6 MB)\n",
            "\u001b[K     |████████████████████████████████| 6.6 MB 56.5 MB/s \n",
            "\u001b[?25hRequirement already satisfied: tqdm>=4.27 in /usr/local/lib/python3.7/dist-packages (from transformers) (4.64.1)\n",
            "Requirement already satisfied: pyyaml>=5.1 in /usr/local/lib/python3.7/dist-packages (from transformers) (6.0)\n",
            "Collecting huggingface-hub<1.0,>=0.9.0\n",
            "  Downloading huggingface_hub-0.10.0-py3-none-any.whl (163 kB)\n",
            "\u001b[K     |████████████████████████████████| 163 kB 92.7 MB/s \n",
            "\u001b[?25hRequirement already satisfied: regex!=2019.12.17 in /usr/local/lib/python3.7/dist-packages (from transformers) (2022.6.2)\n",
            "Requirement already satisfied: importlib-metadata in /usr/local/lib/python3.7/dist-packages (from transformers) (5.0.0)\n",
            "Requirement already satisfied: filelock in /usr/local/lib/python3.7/dist-packages (from transformers) (3.8.0)\n",
            "Requirement already satisfied: packaging>=20.0 in /usr/local/lib/python3.7/dist-packages (from transformers) (21.3)\n",
            "Requirement already satisfied: numpy>=1.17 in /usr/local/lib/python3.7/dist-packages (from transformers) (1.21.6)\n",
            "Requirement already satisfied: typing-extensions>=3.7.4.3 in /usr/local/lib/python3.7/dist-packages (from huggingface-hub<1.0,>=0.9.0->transformers) (4.1.1)\n",
            "Requirement already satisfied: pyparsing!=3.0.5,>=2.0.2 in /usr/local/lib/python3.7/dist-packages (from packaging>=20.0->transformers) (3.0.9)\n",
            "Requirement already satisfied: zipp>=0.5 in /usr/local/lib/python3.7/dist-packages (from importlib-metadata->transformers) (3.8.1)\n",
            "Requirement already satisfied: certifi>=2017.4.17 in /usr/local/lib/python3.7/dist-packages (from requests->transformers) (2022.9.24)\n",
            "Requirement already satisfied: chardet<4,>=3.0.2 in /usr/local/lib/python3.7/dist-packages (from requests->transformers) (3.0.4)\n",
            "Requirement already satisfied: urllib3!=1.25.0,!=1.25.1,<1.26,>=1.21.1 in /usr/local/lib/python3.7/dist-packages (from requests->transformers) (1.24.3)\n",
            "Requirement already satisfied: idna<3,>=2.5 in /usr/local/lib/python3.7/dist-packages (from requests->transformers) (2.10)\n",
            "Installing collected packages: tokenizers, huggingface-hub, transformers\n",
            "Successfully installed huggingface-hub-0.10.0 tokenizers-0.12.1 transformers-4.22.2\n",
            "Looking in indexes: https://pypi.org/simple, https://us-python.pkg.dev/colab-wheels/public/simple/\n",
            "Requirement already satisfied: torch in /usr/local/lib/python3.7/dist-packages (1.12.1+cu113)\n",
            "Requirement already satisfied: typing-extensions in /usr/local/lib/python3.7/dist-packages (from torch) (4.1.1)\n",
            "Looking in indexes: https://pypi.org/simple, https://us-python.pkg.dev/colab-wheels/public/simple/\n",
            "Collecting seqeval==0.0.12\n",
            "  Downloading seqeval-0.0.12.tar.gz (21 kB)\n",
            "Requirement already satisfied: numpy>=1.14.0 in /usr/local/lib/python3.7/dist-packages (from seqeval==0.0.12) (1.21.6)\n",
            "Requirement already satisfied: Keras>=2.2.4 in /usr/local/lib/python3.7/dist-packages (from seqeval==0.0.12) (2.8.0)\n",
            "Building wheels for collected packages: seqeval\n",
            "  Building wheel for seqeval (setup.py) ... \u001b[?25l\u001b[?25hdone\n",
            "  Created wheel for seqeval: filename=seqeval-0.0.12-py3-none-any.whl size=7435 sha256=745c8f7b1d034885377d3bfbb9351b7ef8e0eeaaf8e3dfd71afa429205a9fa4f\n",
            "  Stored in directory: /root/.cache/pip/wheels/dc/cc/62/a3b81f92d35a80e39eb9b2a9d8b31abac54c02b21b2d466edc\n",
            "Successfully built seqeval\n",
            "Installing collected packages: seqeval\n",
            "Successfully installed seqeval-0.0.12\n"
          ]
        }
      ],
      "source": [
        "#Install modules not available already in google colab\n",
        "!pip install transformers\n",
        "!pip install torch\n",
        "#install older version of seqeval as current does not support f1 scores due to known bug\n",
        "!pip install 'seqeval==0.0.12'"
      ]
    },
    {
      "cell_type": "code",
      "source": [
        "!free -h --si | awk  '/Mem:/{print $2}'"
      ],
      "metadata": {
        "colab": {
          "base_uri": "https://localhost:8080/"
        },
        "id": "COsV5HhyGTiC",
        "outputId": "bb0cbd82-1fb1-4de6-ff32-121e71f5c72c"
      },
      "execution_count": null,
      "outputs": [
        {
          "output_type": "stream",
          "name": "stdout",
          "text": [
            "87G\n"
          ]
        }
      ]
    },
    {
      "cell_type": "code",
      "execution_count": null,
      "metadata": {
        "colab": {
          "base_uri": "https://localhost:8080/"
        },
        "id": "jajynp2-vwQe",
        "outputId": "8de1a489-cc78-496a-ba8f-52d7013e5c59"
      },
      "outputs": [
        {
          "output_type": "stream",
          "name": "stdout",
          "text": [
            "Tranformers Version: 4.22.2\n",
            "Torch version:  1.12.1+cu113\n"
          ]
        }
      ],
      "source": [
        "#data manipulation\n",
        "import pandas as pd\n",
        "import numpy as np\n",
        "\n",
        "#Model development\n",
        "from tqdm import tqdm, trange\n",
        "import torch\n",
        "from torch.utils.data import TensorDataset, DataLoader, RandomSampler, SequentialSampler\n",
        "from keras_preprocessing.sequence import pad_sequences\n",
        "from sklearn.model_selection import train_test_split\n",
        "import transformers\n",
        "from transformers import BertTokenizer, BertConfig, BertForTokenClassification, AdamW, get_linear_schedule_with_warmup\n",
        "\n",
        "#Data analysis\n",
        "from seqeval.metrics import f1_score, accuracy_score\n",
        "\n",
        "#charting\n",
        "import matplotlib.pyplot as plt\n",
        "import seaborn as sns\n",
        "\n",
        "print(f'Tranformers Version: {transformers.__version__}')\n",
        "print(f'Torch version:  {torch.__version__}')"
      ]
    },
    {
      "cell_type": "code",
      "execution_count": null,
      "metadata": {
        "colab": {
          "base_uri": "https://localhost:8080/",
          "height": 354
        },
        "id": "AXJk27JevxEV",
        "outputId": "47988892-68e0-44eb-d38b-6d56b5decfd8"
      },
      "outputs": [
        {
          "output_type": "execute_result",
          "data": {
            "text/plain": [
              "   Unnamed: 0                           0  \\\n",
              "0           0       prescription_duration   \n",
              "1           1       inadequate_monitoring   \n",
              "2           2  medication_overprescribing   \n",
              "3           3               known_allergy   \n",
              "4           4                reduce_doses   \n",
              "\n",
              "                                                   1  \\\n",
              "0  mometasone furoate has been prescribed for 24 ...   \n",
              "1  brinzolamide and testosterone propionate requi...   \n",
              "2  patient sturggling to take medications stop en...   \n",
              "3  mr  bud has a known allergy to perphenazine ho...   \n",
              "4  prazosin hydrochloride was reduced from 25mg t...   \n",
              "\n",
              "                                                   2  \n",
              "0  [('mometasone', 'B-Drug'), ('furoate', 'I-Drug...  \n",
              "1  [('brinzolamide', 'B-Drug'), ('and', 'o'), ('t...  \n",
              "2  [('patient', 'o'), ('sturggling', 'o'), ('to',...  \n",
              "3  [('mr ', 'o'), ('bud', 'o'), ('has', 'o'), ('a...  \n",
              "4  [('prazosin', 'B-Drug'), ('hydrochloride', 'I-...  "
            ],
            "text/html": [
              "\n",
              "  <div id=\"df-26baab1f-63ff-4b72-b80b-3aeb42998ceb\">\n",
              "    <div class=\"colab-df-container\">\n",
              "      <div>\n",
              "<style scoped>\n",
              "    .dataframe tbody tr th:only-of-type {\n",
              "        vertical-align: middle;\n",
              "    }\n",
              "\n",
              "    .dataframe tbody tr th {\n",
              "        vertical-align: top;\n",
              "    }\n",
              "\n",
              "    .dataframe thead th {\n",
              "        text-align: right;\n",
              "    }\n",
              "</style>\n",
              "<table border=\"1\" class=\"dataframe\">\n",
              "  <thead>\n",
              "    <tr style=\"text-align: right;\">\n",
              "      <th></th>\n",
              "      <th>Unnamed: 0</th>\n",
              "      <th>0</th>\n",
              "      <th>1</th>\n",
              "      <th>2</th>\n",
              "    </tr>\n",
              "  </thead>\n",
              "  <tbody>\n",
              "    <tr>\n",
              "      <th>0</th>\n",
              "      <td>0</td>\n",
              "      <td>prescription_duration</td>\n",
              "      <td>mometasone furoate has been prescribed for 24 ...</td>\n",
              "      <td>[('mometasone', 'B-Drug'), ('furoate', 'I-Drug...</td>\n",
              "    </tr>\n",
              "    <tr>\n",
              "      <th>1</th>\n",
              "      <td>1</td>\n",
              "      <td>inadequate_monitoring</td>\n",
              "      <td>brinzolamide and testosterone propionate requi...</td>\n",
              "      <td>[('brinzolamide', 'B-Drug'), ('and', 'o'), ('t...</td>\n",
              "    </tr>\n",
              "    <tr>\n",
              "      <th>2</th>\n",
              "      <td>2</td>\n",
              "      <td>medication_overprescribing</td>\n",
              "      <td>patient sturggling to take medications stop en...</td>\n",
              "      <td>[('patient', 'o'), ('sturggling', 'o'), ('to',...</td>\n",
              "    </tr>\n",
              "    <tr>\n",
              "      <th>3</th>\n",
              "      <td>3</td>\n",
              "      <td>known_allergy</td>\n",
              "      <td>mr  bud has a known allergy to perphenazine ho...</td>\n",
              "      <td>[('mr ', 'o'), ('bud', 'o'), ('has', 'o'), ('a...</td>\n",
              "    </tr>\n",
              "    <tr>\n",
              "      <th>4</th>\n",
              "      <td>4</td>\n",
              "      <td>reduce_doses</td>\n",
              "      <td>prazosin hydrochloride was reduced from 25mg t...</td>\n",
              "      <td>[('prazosin', 'B-Drug'), ('hydrochloride', 'I-...</td>\n",
              "    </tr>\n",
              "  </tbody>\n",
              "</table>\n",
              "</div>\n",
              "      <button class=\"colab-df-convert\" onclick=\"convertToInteractive('df-26baab1f-63ff-4b72-b80b-3aeb42998ceb')\"\n",
              "              title=\"Convert this dataframe to an interactive table.\"\n",
              "              style=\"display:none;\">\n",
              "        \n",
              "  <svg xmlns=\"http://www.w3.org/2000/svg\" height=\"24px\"viewBox=\"0 0 24 24\"\n",
              "       width=\"24px\">\n",
              "    <path d=\"M0 0h24v24H0V0z\" fill=\"none\"/>\n",
              "    <path d=\"M18.56 5.44l.94 2.06.94-2.06 2.06-.94-2.06-.94-.94-2.06-.94 2.06-2.06.94zm-11 1L8.5 8.5l.94-2.06 2.06-.94-2.06-.94L8.5 2.5l-.94 2.06-2.06.94zm10 10l.94 2.06.94-2.06 2.06-.94-2.06-.94-.94-2.06-.94 2.06-2.06.94z\"/><path d=\"M17.41 7.96l-1.37-1.37c-.4-.4-.92-.59-1.43-.59-.52 0-1.04.2-1.43.59L10.3 9.45l-7.72 7.72c-.78.78-.78 2.05 0 2.83L4 21.41c.39.39.9.59 1.41.59.51 0 1.02-.2 1.41-.59l7.78-7.78 2.81-2.81c.8-.78.8-2.07 0-2.86zM5.41 20L4 18.59l7.72-7.72 1.47 1.35L5.41 20z\"/>\n",
              "  </svg>\n",
              "      </button>\n",
              "      \n",
              "  <style>\n",
              "    .colab-df-container {\n",
              "      display:flex;\n",
              "      flex-wrap:wrap;\n",
              "      gap: 12px;\n",
              "    }\n",
              "\n",
              "    .colab-df-convert {\n",
              "      background-color: #E8F0FE;\n",
              "      border: none;\n",
              "      border-radius: 50%;\n",
              "      cursor: pointer;\n",
              "      display: none;\n",
              "      fill: #1967D2;\n",
              "      height: 32px;\n",
              "      padding: 0 0 0 0;\n",
              "      width: 32px;\n",
              "    }\n",
              "\n",
              "    .colab-df-convert:hover {\n",
              "      background-color: #E2EBFA;\n",
              "      box-shadow: 0px 1px 2px rgba(60, 64, 67, 0.3), 0px 1px 3px 1px rgba(60, 64, 67, 0.15);\n",
              "      fill: #174EA6;\n",
              "    }\n",
              "\n",
              "    [theme=dark] .colab-df-convert {\n",
              "      background-color: #3B4455;\n",
              "      fill: #D2E3FC;\n",
              "    }\n",
              "\n",
              "    [theme=dark] .colab-df-convert:hover {\n",
              "      background-color: #434B5C;\n",
              "      box-shadow: 0px 1px 3px 1px rgba(0, 0, 0, 0.15);\n",
              "      filter: drop-shadow(0px 1px 2px rgba(0, 0, 0, 0.3));\n",
              "      fill: #FFFFFF;\n",
              "    }\n",
              "  </style>\n",
              "\n",
              "      <script>\n",
              "        const buttonEl =\n",
              "          document.querySelector('#df-26baab1f-63ff-4b72-b80b-3aeb42998ceb button.colab-df-convert');\n",
              "        buttonEl.style.display =\n",
              "          google.colab.kernel.accessAllowed ? 'block' : 'none';\n",
              "\n",
              "        async function convertToInteractive(key) {\n",
              "          const element = document.querySelector('#df-26baab1f-63ff-4b72-b80b-3aeb42998ceb');\n",
              "          const dataTable =\n",
              "            await google.colab.kernel.invokeFunction('convertToInteractive',\n",
              "                                                     [key], {});\n",
              "          if (!dataTable) return;\n",
              "\n",
              "          const docLinkHtml = 'Like what you see? Visit the ' +\n",
              "            '<a target=\"_blank\" href=https://colab.research.google.com/notebooks/data_table.ipynb>data table notebook</a>'\n",
              "            + ' to learn more about interactive tables.';\n",
              "          element.innerHTML = '';\n",
              "          dataTable['output_type'] = 'display_data';\n",
              "          await google.colab.output.renderOutput(dataTable, element);\n",
              "          const docLink = document.createElement('div');\n",
              "          docLink.innerHTML = docLinkHtml;\n",
              "          element.appendChild(docLink);\n",
              "        }\n",
              "      </script>\n",
              "    </div>\n",
              "  </div>\n",
              "  "
            ]
          },
          "metadata": {},
          "execution_count": 4
        }
      ],
      "source": [
        "# Read dataset into pandas dataframe and preprocess\n",
        "data = pd.read_csv(\"dataset.csv\", encoding=\"latin1\")\n",
        "data.head()"
      ]
    },
    {
      "cell_type": "code",
      "source": [
        "data.rename(columns={'0':'Type','1':'Text','2':'Tags'},inplace=True)\n",
        "#replace known error in dataset\n",
        "data['Tags'] = data['Tags'].apply(lambda x: x.replace('I-Ation','I-Action'))\n",
        "data.head()"
      ],
      "metadata": {
        "colab": {
          "base_uri": "https://localhost:8080/",
          "height": 354
        },
        "id": "P2zTWy6vkkOh",
        "outputId": "65cf47a2-18e8-439d-a97c-780aa23545f1"
      },
      "execution_count": null,
      "outputs": [
        {
          "output_type": "execute_result",
          "data": {
            "text/plain": [
              "   Unnamed: 0                        Type  \\\n",
              "0           0       prescription_duration   \n",
              "1           1       inadequate_monitoring   \n",
              "2           2  medication_overprescribing   \n",
              "3           3               known_allergy   \n",
              "4           4                reduce_doses   \n",
              "\n",
              "                                                Text  \\\n",
              "0  mometasone furoate has been prescribed for 24 ...   \n",
              "1  brinzolamide and testosterone propionate requi...   \n",
              "2  patient sturggling to take medications stop en...   \n",
              "3  mr  bud has a known allergy to perphenazine ho...   \n",
              "4  prazosin hydrochloride was reduced from 25mg t...   \n",
              "\n",
              "                                                Tags  \n",
              "0  [('mometasone', 'B-Drug'), ('furoate', 'I-Drug...  \n",
              "1  [('brinzolamide', 'B-Drug'), ('and', 'o'), ('t...  \n",
              "2  [('patient', 'o'), ('sturggling', 'o'), ('to',...  \n",
              "3  [('mr ', 'o'), ('bud', 'o'), ('has', 'o'), ('a...  \n",
              "4  [('prazosin', 'B-Drug'), ('hydrochloride', 'I-...  "
            ],
            "text/html": [
              "\n",
              "  <div id=\"df-af14ce30-d5e7-4d9d-8928-b4623d506f14\">\n",
              "    <div class=\"colab-df-container\">\n",
              "      <div>\n",
              "<style scoped>\n",
              "    .dataframe tbody tr th:only-of-type {\n",
              "        vertical-align: middle;\n",
              "    }\n",
              "\n",
              "    .dataframe tbody tr th {\n",
              "        vertical-align: top;\n",
              "    }\n",
              "\n",
              "    .dataframe thead th {\n",
              "        text-align: right;\n",
              "    }\n",
              "</style>\n",
              "<table border=\"1\" class=\"dataframe\">\n",
              "  <thead>\n",
              "    <tr style=\"text-align: right;\">\n",
              "      <th></th>\n",
              "      <th>Unnamed: 0</th>\n",
              "      <th>Type</th>\n",
              "      <th>Text</th>\n",
              "      <th>Tags</th>\n",
              "    </tr>\n",
              "  </thead>\n",
              "  <tbody>\n",
              "    <tr>\n",
              "      <th>0</th>\n",
              "      <td>0</td>\n",
              "      <td>prescription_duration</td>\n",
              "      <td>mometasone furoate has been prescribed for 24 ...</td>\n",
              "      <td>[('mometasone', 'B-Drug'), ('furoate', 'I-Drug...</td>\n",
              "    </tr>\n",
              "    <tr>\n",
              "      <th>1</th>\n",
              "      <td>1</td>\n",
              "      <td>inadequate_monitoring</td>\n",
              "      <td>brinzolamide and testosterone propionate requi...</td>\n",
              "      <td>[('brinzolamide', 'B-Drug'), ('and', 'o'), ('t...</td>\n",
              "    </tr>\n",
              "    <tr>\n",
              "      <th>2</th>\n",
              "      <td>2</td>\n",
              "      <td>medication_overprescribing</td>\n",
              "      <td>patient sturggling to take medications stop en...</td>\n",
              "      <td>[('patient', 'o'), ('sturggling', 'o'), ('to',...</td>\n",
              "    </tr>\n",
              "    <tr>\n",
              "      <th>3</th>\n",
              "      <td>3</td>\n",
              "      <td>known_allergy</td>\n",
              "      <td>mr  bud has a known allergy to perphenazine ho...</td>\n",
              "      <td>[('mr ', 'o'), ('bud', 'o'), ('has', 'o'), ('a...</td>\n",
              "    </tr>\n",
              "    <tr>\n",
              "      <th>4</th>\n",
              "      <td>4</td>\n",
              "      <td>reduce_doses</td>\n",
              "      <td>prazosin hydrochloride was reduced from 25mg t...</td>\n",
              "      <td>[('prazosin', 'B-Drug'), ('hydrochloride', 'I-...</td>\n",
              "    </tr>\n",
              "  </tbody>\n",
              "</table>\n",
              "</div>\n",
              "      <button class=\"colab-df-convert\" onclick=\"convertToInteractive('df-af14ce30-d5e7-4d9d-8928-b4623d506f14')\"\n",
              "              title=\"Convert this dataframe to an interactive table.\"\n",
              "              style=\"display:none;\">\n",
              "        \n",
              "  <svg xmlns=\"http://www.w3.org/2000/svg\" height=\"24px\"viewBox=\"0 0 24 24\"\n",
              "       width=\"24px\">\n",
              "    <path d=\"M0 0h24v24H0V0z\" fill=\"none\"/>\n",
              "    <path d=\"M18.56 5.44l.94 2.06.94-2.06 2.06-.94-2.06-.94-.94-2.06-.94 2.06-2.06.94zm-11 1L8.5 8.5l.94-2.06 2.06-.94-2.06-.94L8.5 2.5l-.94 2.06-2.06.94zm10 10l.94 2.06.94-2.06 2.06-.94-2.06-.94-.94-2.06-.94 2.06-2.06.94z\"/><path d=\"M17.41 7.96l-1.37-1.37c-.4-.4-.92-.59-1.43-.59-.52 0-1.04.2-1.43.59L10.3 9.45l-7.72 7.72c-.78.78-.78 2.05 0 2.83L4 21.41c.39.39.9.59 1.41.59.51 0 1.02-.2 1.41-.59l7.78-7.78 2.81-2.81c.8-.78.8-2.07 0-2.86zM5.41 20L4 18.59l7.72-7.72 1.47 1.35L5.41 20z\"/>\n",
              "  </svg>\n",
              "      </button>\n",
              "      \n",
              "  <style>\n",
              "    .colab-df-container {\n",
              "      display:flex;\n",
              "      flex-wrap:wrap;\n",
              "      gap: 12px;\n",
              "    }\n",
              "\n",
              "    .colab-df-convert {\n",
              "      background-color: #E8F0FE;\n",
              "      border: none;\n",
              "      border-radius: 50%;\n",
              "      cursor: pointer;\n",
              "      display: none;\n",
              "      fill: #1967D2;\n",
              "      height: 32px;\n",
              "      padding: 0 0 0 0;\n",
              "      width: 32px;\n",
              "    }\n",
              "\n",
              "    .colab-df-convert:hover {\n",
              "      background-color: #E2EBFA;\n",
              "      box-shadow: 0px 1px 2px rgba(60, 64, 67, 0.3), 0px 1px 3px 1px rgba(60, 64, 67, 0.15);\n",
              "      fill: #174EA6;\n",
              "    }\n",
              "\n",
              "    [theme=dark] .colab-df-convert {\n",
              "      background-color: #3B4455;\n",
              "      fill: #D2E3FC;\n",
              "    }\n",
              "\n",
              "    [theme=dark] .colab-df-convert:hover {\n",
              "      background-color: #434B5C;\n",
              "      box-shadow: 0px 1px 3px 1px rgba(0, 0, 0, 0.15);\n",
              "      filter: drop-shadow(0px 1px 2px rgba(0, 0, 0, 0.3));\n",
              "      fill: #FFFFFF;\n",
              "    }\n",
              "  </style>\n",
              "\n",
              "      <script>\n",
              "        const buttonEl =\n",
              "          document.querySelector('#df-af14ce30-d5e7-4d9d-8928-b4623d506f14 button.colab-df-convert');\n",
              "        buttonEl.style.display =\n",
              "          google.colab.kernel.accessAllowed ? 'block' : 'none';\n",
              "\n",
              "        async function convertToInteractive(key) {\n",
              "          const element = document.querySelector('#df-af14ce30-d5e7-4d9d-8928-b4623d506f14');\n",
              "          const dataTable =\n",
              "            await google.colab.kernel.invokeFunction('convertToInteractive',\n",
              "                                                     [key], {});\n",
              "          if (!dataTable) return;\n",
              "\n",
              "          const docLinkHtml = 'Like what you see? Visit the ' +\n",
              "            '<a target=\"_blank\" href=https://colab.research.google.com/notebooks/data_table.ipynb>data table notebook</a>'\n",
              "            + ' to learn more about interactive tables.';\n",
              "          element.innerHTML = '';\n",
              "          dataTable['output_type'] = 'display_data';\n",
              "          await google.colab.output.renderOutput(dataTable, element);\n",
              "          const docLink = document.createElement('div');\n",
              "          docLink.innerHTML = docLinkHtml;\n",
              "          element.appendChild(docLink);\n",
              "        }\n",
              "      </script>\n",
              "    </div>\n",
              "  </div>\n",
              "  "
            ]
          },
          "metadata": {},
          "execution_count": 5
        }
      ]
    },
    {
      "cell_type": "code",
      "source": [
        "from ast import literal_eval\n",
        "\n",
        "sentences = []\n",
        "labels = []\n",
        "\n",
        "def getSentences(x):\n",
        "  # ensure tags is recongised as array and not str\n",
        "  x = literal_eval(x)\n",
        "\n",
        "  sentArr = []\n",
        "  tagArr = []\n",
        "\n",
        "  for i in x:\n",
        "    sentArr.append(i[0])\n",
        "    tagArr.append(i[1])\n",
        "\n",
        "  sentences.append(sentArr)\n",
        "  labels.append(tagArr)\n",
        "\n",
        "data['Tags'].apply(lambda x: getSentences(x))"
      ],
      "metadata": {
        "colab": {
          "base_uri": "https://localhost:8080/"
        },
        "id": "ifI2OUc8ksBY",
        "outputId": "d36b2cc5-580e-4fac-817e-21a161096207"
      },
      "execution_count": null,
      "outputs": [
        {
          "output_type": "execute_result",
          "data": {
            "text/plain": [
              "0        None\n",
              "1        None\n",
              "2        None\n",
              "3        None\n",
              "4        None\n",
              "         ... \n",
              "67995    None\n",
              "67996    None\n",
              "67997    None\n",
              "67998    None\n",
              "67999    None\n",
              "Name: Tags, Length: 68000, dtype: object"
            ]
          },
          "metadata": {},
          "execution_count": 6
        }
      ]
    },
    {
      "cell_type": "code",
      "source": [
        "print(sentences[0])\n",
        "print(labels[0])"
      ],
      "metadata": {
        "colab": {
          "base_uri": "https://localhost:8080/"
        },
        "id": "CFEW99_xnf2j",
        "outputId": "3a2e34d9-c650-41ae-a9c4-ed8f9038d2c6"
      },
      "execution_count": null,
      "outputs": [
        {
          "output_type": "stream",
          "name": "stdout",
          "text": [
            "['mometasone', 'furoate', 'has', 'been', 'prescribed', 'for', '24', 'days', 'this', 'is', 'longer', 'than', 'normal', 'please', 'review', 'need', 'to', 'suspend']\n",
            "['B-Drug', 'I-Drug', 'o', 'o', 'o', 'o', 'o', 'o', 'o', 'o', 'o', 'o', 'o', 'o', 'o', 'o', 'o', 'B-Action']\n"
          ]
        }
      ]
    },
    {
      "cell_type": "code",
      "source": [
        "#Get individual Tags and add PAD value\n",
        "tag_values = list(set([i for tag in labels for i in tag]))\n",
        "tag_values.append(\"PAD\")\n",
        "print(tag_values)"
      ],
      "metadata": {
        "id": "CmT9cHWMNFj6",
        "colab": {
          "base_uri": "https://localhost:8080/"
        },
        "outputId": "c33e2ab5-477c-457a-e5a5-44664dcc8c34"
      },
      "execution_count": null,
      "outputs": [
        {
          "output_type": "stream",
          "name": "stdout",
          "text": [
            "['I-Freq', 'B-Freq', 'I-Dose', 'o', 'B-Dose', 'B-Drug', 'B-Route', 'B-Action', 'I-Action', 'I-Drug', 'I-Route', 'PAD']\n"
          ]
        }
      ]
    },
    {
      "cell_type": "code",
      "execution_count": null,
      "metadata": {
        "id": "1-9uXZvOv5Tr",
        "colab": {
          "base_uri": "https://localhost:8080/"
        },
        "outputId": "96711195-3e5e-4b14-9000-811d18204cc3"
      },
      "outputs": [
        {
          "output_type": "execute_result",
          "data": {
            "text/plain": [
              "{'I-Freq': 0,\n",
              " 'B-Freq': 1,\n",
              " 'I-Dose': 2,\n",
              " 'o': 3,\n",
              " 'B-Dose': 4,\n",
              " 'B-Drug': 5,\n",
              " 'B-Route': 6,\n",
              " 'B-Action': 7,\n",
              " 'I-Action': 8,\n",
              " 'I-Drug': 9,\n",
              " 'I-Route': 10,\n",
              " 'PAD': 11}"
            ]
          },
          "metadata": {},
          "execution_count": 9
        }
      ],
      "source": [
        "#Create tag index\n",
        "tag2idx = {tag: index for index, tag in enumerate(tag_values)}\n",
        "tag2idx"
      ]
    },
    {
      "cell_type": "code",
      "source": [
        "#find longest sentence in data\n",
        "data['sent_length'] = data['Text'].apply(lambda x: len(x.split(' ')))"
      ],
      "metadata": {
        "id": "8PwHeNNTqhTt"
      },
      "execution_count": null,
      "outputs": []
    },
    {
      "cell_type": "code",
      "execution_count": null,
      "metadata": {
        "id": "09BqnbtSv6Q6",
        "colab": {
          "base_uri": "https://localhost:8080/"
        },
        "outputId": "3c21ff81-a963-4f21-d760-18b9e3e2836d"
      },
      "outputs": [
        {
          "output_type": "stream",
          "name": "stdout",
          "text": [
            "Max length has been set to 87\n"
          ]
        }
      ],
      "source": [
        "# set maximum length to longest sentence\n",
        "\n",
        "longestSentence = data['sent_length'].max()\n",
        "MAX_LEN = longestSentence\n",
        "BATCH_SIZE = 32\n",
        "\n",
        "print(f'Max length has been set to {MAX_LEN}')"
      ]
    },
    {
      "cell_type": "code",
      "execution_count": null,
      "metadata": {
        "id": "qporzTnyv7MJ",
        "colab": {
          "base_uri": "https://localhost:8080/"
        },
        "outputId": "6ae23121-bce4-4c89-b73d-98efb847b4e7"
      },
      "outputs": [
        {
          "output_type": "stream",
          "name": "stdout",
          "text": [
            "cuda\n"
          ]
        }
      ],
      "source": [
        "#Check if GPUS available\n",
        "device = torch.device(\"cuda\" if torch.cuda.is_available() else \"cpu\")\n",
        "n_gpu = torch.cuda.device_count()\n",
        "print(device)"
      ]
    },
    {
      "cell_type": "code",
      "execution_count": null,
      "metadata": {
        "id": "lQm-J9zBv9O_",
        "colab": {
          "base_uri": "https://localhost:8080/",
          "height": 113,
          "referenced_widgets": [
            "92a87b4f2db84f4f950aea8d5bfbcb11",
            "29f55ff5480a438fb798ec6173ce894a",
            "e735f07c27af40148377b06af9d49ccc",
            "54281ee79ed24fa2996564279b8f8e36",
            "cdc54ebbd6fb4783b9f537db80000f4c",
            "dfe6118fc6fb46ba8443181de425e1b1",
            "db0cdbaf54fd4595b8de447e40777f22",
            "b911b46a58284c4b9d2221f773e93a65",
            "fb90a70a2c4a4c92982172bbdf6c156f",
            "27a30c3abc334c97a99391e97ddec799",
            "76fec4d01a11440e8fdfe73737925c54",
            "967390e757064506867db554c1f494ba",
            "c97f4335fafe4601bba64f27e181a605",
            "718afaf8f65d46e89488e45c9505730f",
            "982fc07689d743adbea617c52834ce03",
            "a30c2590ef724c598d2bd4737386beec",
            "536506c1438e4ac4beda2f124ea73a69",
            "a0bcb718845047afae71c40852586314",
            "e0633524641144b7bb95e3014bda321b",
            "5449d2b1a3c441ffb9511895eeb89c50",
            "ea6395b0e43440d887a442c313050fbb",
            "c2e40439ba024c2caa7c777621f0bc28",
            "40ca8eb3c91945c5b26ece87ba850bd6",
            "47c072272f48485289084bb5056f5d8d",
            "007d7b91201c4d7383f7b25f4d93a315",
            "eba0728065c540a882b0ec6c6fe241b2",
            "1939d956d5ff4a51878ce86ffb9a567b",
            "a961cf8c82ba4fcf8dd4fa020fb22206",
            "cb4480f617e04e0f9cebef67406ecb9e",
            "0ae940c4f81f4be89bef37eda0cdaeed",
            "948ea910dd8344ae886b207928d1ed07",
            "22a8048ddaf5420e803d5801b6252b4d",
            "b1d18b89e7cc45d99f45f798e555edbf"
          ]
        },
        "outputId": "20f3403c-ede4-443a-e794-8094898c79d6"
      },
      "outputs": [
        {
          "output_type": "display_data",
          "data": {
            "text/plain": [
              "Downloading:   0%|          | 0.00/213k [00:00<?, ?B/s]"
            ],
            "application/vnd.jupyter.widget-view+json": {
              "version_major": 2,
              "version_minor": 0,
              "model_id": "92a87b4f2db84f4f950aea8d5bfbcb11"
            }
          },
          "metadata": {}
        },
        {
          "output_type": "display_data",
          "data": {
            "text/plain": [
              "Downloading:   0%|          | 0.00/29.0 [00:00<?, ?B/s]"
            ],
            "application/vnd.jupyter.widget-view+json": {
              "version_major": 2,
              "version_minor": 0,
              "model_id": "967390e757064506867db554c1f494ba"
            }
          },
          "metadata": {}
        },
        {
          "output_type": "display_data",
          "data": {
            "text/plain": [
              "Downloading:   0%|          | 0.00/570 [00:00<?, ?B/s]"
            ],
            "application/vnd.jupyter.widget-view+json": {
              "version_major": 2,
              "version_minor": 0,
              "model_id": "40ca8eb3c91945c5b26ece87ba850bd6"
            }
          },
          "metadata": {}
        }
      ],
      "source": [
        "#import tokenizer\n",
        "tokenizer = BertTokenizer.from_pretrained('bert-base-cased', do_lower_case=False)"
      ]
    },
    {
      "cell_type": "code",
      "execution_count": null,
      "metadata": {
        "id": "fijJ8P0Mv_n-"
      },
      "outputs": [],
      "source": [
        "def tokenize_labels(sentence, text_labels):\n",
        "    tokenized_sentence = []\n",
        "    labels = []\n",
        "\n",
        "    for word, label in zip(sentence, text_labels):\n",
        "        # Tokenize the word\n",
        "        tokenized_word = tokenizer.tokenize(word)\n",
        "\n",
        "        # Count number of subwords each word has been broken down into\n",
        "        noSubwords = len(tokenized_word)\n",
        "\n",
        "        # Add the word to list and add extra labels for tokenised word\n",
        "        tokenized_sentence.extend(tokenized_word)\n",
        "        labels.extend([label] * noSubwords)\n",
        "\n",
        "    return tokenized_sentence, labels\n",
        "\n",
        "tokenized_texts_and_labels = [\n",
        "    tokenize_labels(sent, labs)\n",
        "    for sent, labs in zip(sentences, labels)\n",
        "]"
      ]
    },
    {
      "cell_type": "code",
      "execution_count": null,
      "metadata": {
        "id": "aZYWOKPwwBXL",
        "colab": {
          "base_uri": "https://localhost:8080/"
        },
        "outputId": "1ecc23c1-c2f1-4115-8aac-5add12be4a85"
      },
      "outputs": [
        {
          "output_type": "stream",
          "name": "stdout",
          "text": [
            "['mom', '##eta', '##son', '##e', 'fur', '##oat', '##e', 'has', 'been', 'prescribed', 'for', '24', 'days', 'this', 'is', 'longer', 'than', 'normal', 'please', 'review', 'need', 'to', 'su', '##sp', '##end']\n",
            "['B-Drug', 'B-Drug', 'B-Drug', 'B-Drug', 'I-Drug', 'I-Drug', 'I-Drug', 'o', 'o', 'o', 'o', 'o', 'o', 'o', 'o', 'o', 'o', 'o', 'o', 'o', 'o', 'o', 'B-Action', 'B-Action', 'B-Action']\n"
          ]
        }
      ],
      "source": [
        "print(tokenized_texts_and_labels[0][0])\n",
        "print(tokenized_texts_and_labels[0][1])"
      ]
    },
    {
      "cell_type": "code",
      "source": [
        "#Create array of all text that has been tokenised\n",
        "tokenized_texts = [token[0] for token in tokenized_texts_and_labels]\n",
        "#Create labels\n",
        "labels = [token_label_pair[1] for token_label_pair in tokenized_texts_and_labels]\n"
      ],
      "metadata": {
        "id": "2sOzhSQwvnWy"
      },
      "execution_count": null,
      "outputs": []
    },
    {
      "cell_type": "code",
      "execution_count": null,
      "metadata": {
        "id": "eYRyBtKty6yk",
        "colab": {
          "base_uri": "https://localhost:8080/"
        },
        "outputId": "39eb7114-aa7e-4ae8-9cb5-08c6f9417efd"
      },
      "outputs": [
        {
          "output_type": "execute_result",
          "data": {
            "text/plain": [
              "array([ 4113, 12405,  2142,  1162,  9015, 20534,  1162,  1144,  1151,\n",
              "       17421,  1111,  1572,  1552,  1142,  1110,  2039,  1190,  2999,\n",
              "        4268,  3189,  1444,  1106, 28117, 20080,  6696,     0,     0,\n",
              "           0,     0,     0,     0,     0,     0,     0,     0,     0,\n",
              "           0,     0,     0,     0,     0,     0,     0,     0,     0,\n",
              "           0,     0,     0,     0,     0,     0,     0,     0,     0,\n",
              "           0,     0,     0,     0,     0,     0,     0,     0,     0,\n",
              "           0,     0,     0,     0,     0,     0,     0,     0,     0,\n",
              "           0,     0,     0,     0,     0,     0,     0,     0,     0,\n",
              "           0,     0,     0,     0,     0,     0])"
            ]
          },
          "metadata": {},
          "execution_count": 17
        }
      ],
      "source": [
        "#convert tokens to texts to Ids and add padding\n",
        "input_ids = pad_sequences([tokenizer.convert_tokens_to_ids(txt) for txt in tokenized_texts],maxlen=MAX_LEN, dtype=\"long\", value=0.0,truncating=\"post\", padding=\"post\")\n",
        "input_ids[0]"
      ]
    },
    {
      "cell_type": "code",
      "execution_count": null,
      "metadata": {
        "id": "Iu-9S_l1y8su",
        "colab": {
          "base_uri": "https://localhost:8080/"
        },
        "outputId": "93f4b23c-a724-4476-90ff-4aee22479197"
      },
      "outputs": [
        {
          "output_type": "execute_result",
          "data": {
            "text/plain": [
              "array([ 5,  5,  5,  5,  9,  9,  9,  3,  3,  3,  3,  3,  3,  3,  3,  3,  3,\n",
              "        3,  3,  3,  3,  3,  7,  7,  7, 11, 11, 11, 11, 11, 11, 11, 11, 11,\n",
              "       11, 11, 11, 11, 11, 11, 11, 11, 11, 11, 11, 11, 11, 11, 11, 11, 11,\n",
              "       11, 11, 11, 11, 11, 11, 11, 11, 11, 11, 11, 11, 11, 11, 11, 11, 11,\n",
              "       11, 11, 11, 11, 11, 11, 11, 11, 11, 11, 11, 11, 11, 11, 11, 11, 11,\n",
              "       11, 11])"
            ]
          },
          "metadata": {},
          "execution_count": 18
        }
      ],
      "source": [
        "#convert tags to ids and add padding\n",
        "tags = pad_sequences([[tag2idx.get(l) for l in lab] for lab in labels],maxlen=MAX_LEN, value=tag2idx[\"PAD\"], padding=\"post\",dtype=\"long\", truncating=\"post\")\n",
        "tags[0]"
      ]
    },
    {
      "cell_type": "code",
      "execution_count": null,
      "metadata": {
        "id": "C3cOAIZuwGrn"
      },
      "outputs": [],
      "source": [
        "attention_masks = [[float(i != 0.0) for i in ii] for ii in input_ids]"
      ]
    },
    {
      "cell_type": "code",
      "execution_count": null,
      "metadata": {
        "id": "I4kSYNHvwJa1"
      },
      "outputs": [],
      "source": [
        "tr_inputs, val_inputs, tr_tags, val_tags = train_test_split(input_ids, tags,random_state=2018, test_size=0.2)\n",
        "tr_masks, val_masks, _, _ = train_test_split(attention_masks, input_ids,random_state=2018, test_size=0.2)"
      ]
    },
    {
      "cell_type": "code",
      "execution_count": null,
      "metadata": {
        "id": "9HPxDc-uzXNd"
      },
      "outputs": [],
      "source": [
        "tr_inputs = torch.tensor(tr_inputs).type(torch.LongTensor)\n",
        "val_inputs = torch.tensor(val_inputs).type(torch.LongTensor)\n",
        "tr_tags = torch.tensor(tr_tags).type(torch.LongTensor)\n",
        "val_tags = torch.tensor(val_tags).type(torch.LongTensor)\n",
        "tr_masks = torch.tensor(tr_masks).type(torch.LongTensor)\n",
        "val_masks = torch.tensor(val_masks).type(torch.LongTensor)"
      ]
    },
    {
      "cell_type": "code",
      "execution_count": null,
      "metadata": {
        "id": "n8JMakAHwkcU"
      },
      "outputs": [],
      "source": [
        "train_data = TensorDataset(tr_inputs, tr_masks, tr_tags)\n",
        "train_sampler = RandomSampler(train_data)\n",
        "train_dataloader = DataLoader(train_data, sampler=train_sampler, batch_size=BATCH_SIZE)\n",
        "\n",
        "valid_data = TensorDataset(val_inputs, val_masks, val_tags)\n",
        "valid_sampler = SequentialSampler(valid_data)\n",
        "valid_dataloader = DataLoader(valid_data, sampler=valid_sampler, batch_size=BATCH_SIZE)"
      ]
    },
    {
      "cell_type": "code",
      "source": [
        "len(train_data)"
      ],
      "metadata": {
        "id": "OTKyms4zDUQN",
        "outputId": "6180fd16-e3f5-4708-a187-5a03a51ddf91",
        "colab": {
          "base_uri": "https://localhost:8080/"
        }
      },
      "execution_count": null,
      "outputs": [
        {
          "output_type": "execute_result",
          "data": {
            "text/plain": [
              "54400"
            ]
          },
          "metadata": {},
          "execution_count": 23
        }
      ]
    },
    {
      "cell_type": "code",
      "execution_count": null,
      "metadata": {
        "colab": {
          "base_uri": "https://localhost:8080/",
          "height": 156,
          "referenced_widgets": [
            "47d84fe356094ad190cc645f2ff98c7b",
            "e0b4fbd2caca4f799015579639b04764",
            "973bf3a680cb45b49d255564c436a22c",
            "294f8d2b2c2c4ad3bdc05edea90f16ea",
            "58d390a2725541aaa0418b1a5428a5e8",
            "9c5da382e5194b73b1122e49d43d7ac4",
            "06b28143a3e5476da8042c4c82528588",
            "707261267074430b93c286d5e1969144",
            "40e066d19a5d4d4c850039f5f0221030",
            "8c6656d51baf40ea9c1d9da090c78c60",
            "a2eeb7ef1fe04581a7eb6f0fc6bedd7f"
          ]
        },
        "id": "aElKu2txwXbG",
        "outputId": "48c72095-fc8f-4e4c-e5c7-c525805888d5"
      },
      "outputs": [
        {
          "output_type": "display_data",
          "data": {
            "text/plain": [
              "Downloading:   0%|          | 0.00/436M [00:00<?, ?B/s]"
            ],
            "application/vnd.jupyter.widget-view+json": {
              "version_major": 2,
              "version_minor": 0,
              "model_id": "47d84fe356094ad190cc645f2ff98c7b"
            }
          },
          "metadata": {}
        },
        {
          "output_type": "stream",
          "name": "stderr",
          "text": [
            "Some weights of the model checkpoint at bert-base-cased were not used when initializing BertForTokenClassification: ['cls.seq_relationship.weight', 'cls.predictions.bias', 'cls.predictions.transform.dense.bias', 'cls.seq_relationship.bias', 'cls.predictions.decoder.weight', 'cls.predictions.transform.dense.weight', 'cls.predictions.transform.LayerNorm.weight', 'cls.predictions.transform.LayerNorm.bias']\n",
            "- This IS expected if you are initializing BertForTokenClassification from the checkpoint of a model trained on another task or with another architecture (e.g. initializing a BertForSequenceClassification model from a BertForPreTraining model).\n",
            "- This IS NOT expected if you are initializing BertForTokenClassification from the checkpoint of a model that you expect to be exactly identical (initializing a BertForSequenceClassification model from a BertForSequenceClassification model).\n",
            "Some weights of BertForTokenClassification were not initialized from the model checkpoint at bert-base-cased and are newly initialized: ['classifier.weight', 'classifier.bias']\n",
            "You should probably TRAIN this model on a down-stream task to be able to use it for predictions and inference.\n"
          ]
        }
      ],
      "source": [
        "#Define model\n",
        "model = BertForTokenClassification.from_pretrained(\n",
        "    \"bert-base-cased\",\n",
        "    num_labels=len(tag2idx),\n",
        "    output_attentions = False,\n",
        "    output_hidden_states = False\n",
        ")"
      ]
    },
    {
      "cell_type": "code",
      "execution_count": null,
      "metadata": {
        "id": "GJZDFVuk0Fa7"
      },
      "outputs": [],
      "source": [
        "model.cuda();"
      ]
    },
    {
      "cell_type": "code",
      "execution_count": null,
      "metadata": {
        "colab": {
          "base_uri": "https://localhost:8080/"
        },
        "id": "8aOuFxJ_wYu4",
        "outputId": "7bea2bca-8c50-4255-8f4c-07340c8256a2"
      },
      "outputs": [
        {
          "output_type": "stream",
          "name": "stderr",
          "text": [
            "/usr/local/lib/python3.7/dist-packages/transformers/optimization.py:310: FutureWarning: This implementation of AdamW is deprecated and will be removed in a future version. Use the PyTorch implementation torch.optim.AdamW instead, or set `no_deprecation_warning=True` to disable this warning\n",
            "  FutureWarning,\n"
          ]
        }
      ],
      "source": [
        "param_optimizer = list(model.named_parameters())\n",
        "no_decay = ['bias', 'gamma', 'beta']\n",
        "optimizer_grouped_parameters = [\n",
        "    {'params': [p for n, p in param_optimizer if not any(nd in n for nd in no_decay)],\n",
        "      'weight_decay_rate': 0.01},\n",
        "    {'params': [p for n, p in param_optimizer if any(nd in n for nd in no_decay)],\n",
        "      'weight_decay_rate': 0.0}\n",
        "]\n",
        "optimizer = AdamW(optimizer_grouped_parameters,lr=3e-5,eps=1e-8)"
      ]
    },
    {
      "cell_type": "code",
      "execution_count": null,
      "metadata": {
        "id": "YBN5GB8ZwcKb"
      },
      "outputs": [],
      "source": [
        "epochs = 5\n",
        "max_grad_norm = 1.0\n",
        "\n",
        "# Total number of training steps is number of batches * number of epochs.\n",
        "total_steps = len(train_dataloader) * epochs\n",
        "\n",
        "# Create the learning rate scheduler.\n",
        "scheduler = get_linear_schedule_with_warmup(\n",
        "    optimizer,\n",
        "    num_warmup_steps=0,\n",
        "    num_training_steps=total_steps\n",
        ")"
      ]
    },
    {
      "cell_type": "code",
      "execution_count": null,
      "metadata": {
        "colab": {
          "base_uri": "https://localhost:8080/"
        },
        "id": "1MvIPQBCwsgr",
        "outputId": "f6a51183-fe72-4d36-f6d7-e1e676820942"
      },
      "outputs": [
        {
          "output_type": "stream",
          "name": "stderr",
          "text": [
            "\rEpoch:   0%|          | 0/5 [00:00<?, ?it/s]"
          ]
        },
        {
          "output_type": "stream",
          "name": "stdout",
          "text": [
            "Average train loss: 0.026851938198858134\n",
            "Validation loss: 0.001032902999457506\n",
            "Validation Accuracy: 0.9994028498040204\n"
          ]
        },
        {
          "output_type": "stream",
          "name": "stderr",
          "text": [
            "\rEpoch:  20%|██        | 1/5 [08:52<35:31, 532.88s/it]"
          ]
        },
        {
          "output_type": "stream",
          "name": "stdout",
          "text": [
            "Validation F1-Score: 0.9981681093311172\n",
            "\n",
            "Average train loss: 0.0010378893020285486\n",
            "Validation loss: 0.0008998380190314492\n",
            "Validation Accuracy: 0.9995383732527533\n"
          ]
        },
        {
          "output_type": "stream",
          "name": "stderr",
          "text": [
            "\rEpoch:  40%|████      | 2/5 [17:42<26:32, 530.79s/it]"
          ]
        },
        {
          "output_type": "stream",
          "name": "stdout",
          "text": [
            "Validation F1-Score: 0.9987983103515246\n",
            "\n",
            "Average train loss: 0.00044945881521711914\n",
            "Validation loss: 0.000579186522449805\n",
            "Validation Accuracy: 0.9997564813030579\n"
          ]
        },
        {
          "output_type": "stream",
          "name": "stderr",
          "text": [
            "\rEpoch:  60%|██████    | 3/5 [26:31<17:40, 530.08s/it]"
          ]
        },
        {
          "output_type": "stream",
          "name": "stdout",
          "text": [
            "Validation F1-Score: 0.9993052163386418\n",
            "\n",
            "Average train loss: 0.00024909575713536467\n",
            "Validation loss: 0.0006852151833663811\n",
            "Validation Accuracy: 0.9997268355486476\n"
          ]
        },
        {
          "output_type": "stream",
          "name": "stderr",
          "text": [
            "\rEpoch:  80%|████████  | 4/5 [35:21<08:49, 529.89s/it]"
          ]
        },
        {
          "output_type": "stream",
          "name": "stdout",
          "text": [
            "Validation F1-Score: 0.9992809531466643\n",
            "\n",
            "Average train loss: 6.579994663565338e-05\n",
            "Validation loss: 0.0005688893827626838\n",
            "Validation Accuracy: 0.9997840095035818\n"
          ]
        },
        {
          "output_type": "stream",
          "name": "stderr",
          "text": [
            "Epoch: 100%|██████████| 5/5 [44:10<00:00, 530.09s/it]"
          ]
        },
        {
          "output_type": "stream",
          "name": "stdout",
          "text": [
            "Validation F1-Score: 0.999417482797539\n",
            "\n"
          ]
        },
        {
          "output_type": "stream",
          "name": "stderr",
          "text": [
            "\n"
          ]
        }
      ],
      "source": [
        "## Store the average loss after each epoch so we can plot them.\n",
        "loss_values, validation_loss_values = [], []\n",
        "\n",
        "predicted_data = []\n",
        "valid_data = []\n",
        "f1s = []\n",
        "\n",
        "for _ in trange(epochs, desc=\"Epoch\"):\n",
        "    # Put the model into training mode.\n",
        "    model.train()\n",
        "    # Reset the total loss for this epoch.\n",
        "    total_loss = 0\n",
        "\n",
        "    # Training loop\n",
        "    for step, batch in enumerate(train_dataloader):\n",
        "        # add batch to gpu\n",
        "        batch = tuple(t.to(device) for t in batch)\n",
        "        b_input_ids, b_input_mask, b_labels = batch\n",
        "        # Always clear any previously calculated gradients before performing a backward pass.\n",
        "        model.zero_grad()\n",
        "        # forward pass\n",
        "        # This will return the loss (rather than the model output)\n",
        "        # because we have provided the `labels`.\n",
        "        outputs = model(b_input_ids, token_type_ids=None, attention_mask=b_input_mask, labels=b_labels)\n",
        "        # get the loss\n",
        "        loss = outputs[0]\n",
        "        # Perform a backward pass to calculate the gradients.\n",
        "        loss.backward()\n",
        "        # track train loss\n",
        "        total_loss += loss.item()\n",
        "        # Clip the norm of the gradient\n",
        "        # This is to help prevent the \"exploding gradients\" problem.\n",
        "        torch.nn.utils.clip_grad_norm_(parameters=model.parameters(), max_norm=max_grad_norm)\n",
        "        # update parameters\n",
        "        optimizer.step()\n",
        "        # Update the learning rate.\n",
        "        scheduler.step()\n",
        "\n",
        "    # Calculate the average loss over the training data.\n",
        "    avg_train_loss = total_loss / len(train_dataloader)\n",
        "    print(\"Average train loss: {}\".format(avg_train_loss))\n",
        "\n",
        "    # Store the loss value for plotting the learning curve.\n",
        "    loss_values.append(avg_train_loss)\n",
        "\n",
        "\n",
        "\n",
        "    # Validation\n",
        "    # Measure performance on validation set after each epoch\n",
        "\n",
        "    model.eval()\n",
        "\n",
        "    # Reset the validation loss for this epoch.\n",
        "    eval_loss, eval_accuracy = 0, 0\n",
        "    nb_eval_steps, nb_eval_examples = 0, 0\n",
        "    predictions , true_labels = [], []\n",
        "    for batch in valid_dataloader:\n",
        "        batch = tuple(t.to(device) for t in batch)\n",
        "        b_input_ids, b_input_mask, b_labels = batch\n",
        "\n",
        "        # do not to compute or store gradients,\n",
        "        # saving memory and speeding up validation\n",
        "        with torch.no_grad():\n",
        "            outputs = model(b_input_ids, token_type_ids=None, attention_mask=b_input_mask, labels=b_labels)\n",
        "\n",
        "        # Move logits and labels to CPU\n",
        "        logits = outputs[1].detach().cpu().numpy()\n",
        "        label_ids = b_labels.to('cpu').numpy()\n",
        "\n",
        "        # Calculate the accuracy for this batch of test sentences.\n",
        "        eval_loss += outputs[0].mean().item()\n",
        "        predictions.extend([list(p) for p in np.argmax(logits, axis=2)])\n",
        "        true_labels.extend(label_ids)\n",
        "\n",
        "    eval_loss = eval_loss / len(valid_dataloader)\n",
        "    validation_loss_values.append(eval_loss)\n",
        "    print(\"Validation loss: {}\".format(eval_loss))\n",
        "\n",
        "    pred_tags = [tag_values[p_i] for p, l in zip(predictions, true_labels) for p_i, l_i in zip(p, l) if tag_values[l_i] != \"PAD\"]\n",
        "    valid_tags = [tag_values[l_i] for l in true_labels for l_i in l if tag_values[l_i] != \"PAD\"]\n",
        "\n",
        "    print(\"Validation Accuracy: {}\".format(accuracy_score(pred_tags, valid_tags)))\n",
        "    try:\n",
        "      f1 = f1_score(pred_tags, valid_tags)\n",
        "      print(\"Validation F1-Score: {}\".format(f1))\n",
        "      predicted_data.append(pred_tags)\n",
        "      valid_data.append(valid_tags)\n",
        "      f1s.append(f1)\n",
        "\n",
        "    except:\n",
        "      print('')\n",
        "    print()"
      ]
    },
    {
      "cell_type": "code",
      "source": [
        "labels = ['Epoch 1','Epoch 2','Epoch 3','Epoch 4','Epoch 5']\n",
        "\n",
        "plt.plot(f1s, 'b-o', label=labels)\n",
        "plt.title(\"F1 Improvement\")\n",
        "plt.xlabel(\"Epoch\")\n",
        "plt.ylabel(\"F1 Value\")\n",
        "plt.show()"
      ],
      "metadata": {
        "colab": {
          "base_uri": "https://localhost:8080/",
          "height": 295
        },
        "id": "0K4QLGqmZzlf",
        "outputId": "ef54a7fb-2028-4aef-ede7-f7a331b60c56"
      },
      "execution_count": null,
      "outputs": [
        {
          "output_type": "display_data",
          "data": {
            "text/plain": [
              "<Figure size 432x288 with 1 Axes>"
            ],
            "image/png": "[encoded data removed]"
          },
          "metadata": {
            "needs_background": "light"
          }
        }
      ]
    },
    {
      "cell_type": "code",
      "source": [
        "from sklearn.metrics import confusion_matrix\n",
        "\n",
        "confusion_matrix(predicted_data[0],valid_data[0])"
      ],
      "metadata": {
        "colab": {
          "base_uri": "https://localhost:8080/"
        },
        "id": "NGKFV3ZyHn-T",
        "outputId": "2a996522-9477-4683-97c8-1096b0a65879"
      },
      "execution_count": null,
      "outputs": [
        {
          "output_type": "execute_result",
          "data": {
            "text/plain": [
              "array([[ 24136,      0,      1,      0,      0,      1,      0,      0,\n",
              "             0,      0,      3],\n",
              "       [     0,  16280,      0,      0,      0,      0,      7,      2,\n",
              "             0,      0,      0],\n",
              "       [     5,      0,  85881,      0,      0,      2,      0,     63,\n",
              "             0,      0,     47],\n",
              "       [     0,      0,      0,   1775,      0,      0,      0,      1,\n",
              "             3,      0,      6],\n",
              "       [     0,      0,      0,      0,   1608,      0,      0,      0,\n",
              "             0,      0,      2],\n",
              "       [     0,      0,      0,      0,      0,  12747,      0,      0,\n",
              "             0,      0,      0],\n",
              "       [     0,      2,      0,      0,      0,      0,    361,      5,\n",
              "             0,      0,      0],\n",
              "       [     0,      0,     27,      1,      0,      0,      0,  47878,\n",
              "             0,      0,     16],\n",
              "       [     0,      0,      0,      0,      0,      0,      0,      0,\n",
              "          1336,      0,      1],\n",
              "       [     0,      0,      0,      0,      0,      0,      0,      0,\n",
              "             0,    168,      0],\n",
              "       [    24,      1,     10,      0,      6,     12,      4,     27,\n",
              "             3,      0, 279791]])"
            ]
          },
          "metadata": {},
          "execution_count": 30
        }
      ]
    },
    {
      "cell_type": "code",
      "source": [
        "predicted_series = pd.Series(predicted_data[0], name='Actual')\n",
        "valid_series = pd.Series(valid_data[0], name='Predicted')\n",
        "df_confusionMatrix = pd.crosstab(predicted_series,valid_series)\n",
        "df_confusionMatrix"
      ],
      "metadata": {
        "colab": {
          "base_uri": "https://localhost:8080/",
          "height": 426
        },
        "id": "QVyYKu-gIfa-",
        "outputId": "219c76ca-321d-4191-dcee-09960f4fcae3"
      },
      "execution_count": null,
      "outputs": [
        {
          "output_type": "execute_result",
          "data": {
            "text/plain": [
              "Predicted  B-Action  B-Dose  B-Drug  B-Freq  B-Route  I-Action  I-Dose  \\\n",
              "Actual                                                                   \n",
              "B-Action      24136       0       1       0        0         1       0   \n",
              "B-Dose            0   16280       0       0        0         0       7   \n",
              "B-Drug            5       0   85881       0        0         2       0   \n",
              "B-Freq            0       0       0    1775        0         0       0   \n",
              "B-Route           0       0       0       0     1608         0       0   \n",
              "I-Action          0       0       0       0        0     12747       0   \n",
              "I-Dose            0       2       0       0        0         0     361   \n",
              "I-Drug            0       0      27       1        0         0       0   \n",
              "I-Freq            0       0       0       0        0         0       0   \n",
              "I-Route           0       0       0       0        0         0       0   \n",
              "o                24       1      10       0        6        12       4   \n",
              "\n",
              "Predicted  I-Drug  I-Freq  I-Route       o  \n",
              "Actual                                      \n",
              "B-Action        0       0        0       3  \n",
              "B-Dose          2       0        0       0  \n",
              "B-Drug         63       0        0      47  \n",
              "B-Freq          1       3        0       6  \n",
              "B-Route         0       0        0       2  \n",
              "I-Action        0       0        0       0  \n",
              "I-Dose          5       0        0       0  \n",
              "I-Drug      47878       0        0      16  \n",
              "I-Freq          0    1336        0       1  \n",
              "I-Route         0       0      168       0  \n",
              "o              27       3        0  279791  "
            ],
            "text/html": [
              "\n",
              "  <div id=\"df-1ae70032-c9c9-481c-90d7-eed10354a0d2\">\n",
              "    <div class=\"colab-df-container\">\n",
              "      <div>\n",
              "<style scoped>\n",
              "    .dataframe tbody tr th:only-of-type {\n",
              "        vertical-align: middle;\n",
              "    }\n",
              "\n",
              "    .dataframe tbody tr th {\n",
              "        vertical-align: top;\n",
              "    }\n",
              "\n",
              "    .dataframe thead th {\n",
              "        text-align: right;\n",
              "    }\n",
              "</style>\n",
              "<table border=\"1\" class=\"dataframe\">\n",
              "  <thead>\n",
              "    <tr style=\"text-align: right;\">\n",
              "      <th>Predicted</th>\n",
              "      <th>B-Action</th>\n",
              "      <th>B-Dose</th>\n",
              "      <th>B-Drug</th>\n",
              "      <th>B-Freq</th>\n",
              "      <th>B-Route</th>\n",
              "      <th>I-Action</th>\n",
              "      <th>I-Dose</th>\n",
              "      <th>I-Drug</th>\n",
              "      <th>I-Freq</th>\n",
              "      <th>I-Route</th>\n",
              "      <th>o</th>\n",
              "    </tr>\n",
              "    <tr>\n",
              "      <th>Actual</th>\n",
              "      <th></th>\n",
              "      <th></th>\n",
              "      <th></th>\n",
              "      <th></th>\n",
              "      <th></th>\n",
              "      <th></th>\n",
              "      <th></th>\n",
              "      <th></th>\n",
              "      <th></th>\n",
              "      <th></th>\n",
              "      <th></th>\n",
              "    </tr>\n",
              "  </thead>\n",
              "  <tbody>\n",
              "    <tr>\n",
              "      <th>B-Action</th>\n",
              "      <td>24136</td>\n",
              "      <td>0</td>\n",
              "      <td>1</td>\n",
              "      <td>0</td>\n",
              "      <td>0</td>\n",
              "      <td>1</td>\n",
              "      <td>0</td>\n",
              "      <td>0</td>\n",
              "      <td>0</td>\n",
              "      <td>0</td>\n",
              "      <td>3</td>\n",
              "    </tr>\n",
              "    <tr>\n",
              "      <th>B-Dose</th>\n",
              "      <td>0</td>\n",
              "      <td>16280</td>\n",
              "      <td>0</td>\n",
              "      <td>0</td>\n",
              "      <td>0</td>\n",
              "      <td>0</td>\n",
              "      <td>7</td>\n",
              "      <td>2</td>\n",
              "      <td>0</td>\n",
              "      <td>0</td>\n",
              "      <td>0</td>\n",
              "    </tr>\n",
              "    <tr>\n",
              "      <th>B-Drug</th>\n",
              "      <td>5</td>\n",
              "      <td>0</td>\n",
              "      <td>85881</td>\n",
              "      <td>0</td>\n",
              "      <td>0</td>\n",
              "      <td>2</td>\n",
              "      <td>0</td>\n",
              "      <td>63</td>\n",
              "      <td>0</td>\n",
              "      <td>0</td>\n",
              "      <td>47</td>\n",
              "    </tr>\n",
              "    <tr>\n",
              "      <th>B-Freq</th>\n",
              "      <td>0</td>\n",
              "      <td>0</td>\n",
              "      <td>0</td>\n",
              "      <td>1775</td>\n",
              "      <td>0</td>\n",
              "      <td>0</td>\n",
              "      <td>0</td>\n",
              "      <td>1</td>\n",
              "      <td>3</td>\n",
              "      <td>0</td>\n",
              "      <td>6</td>\n",
              "    </tr>\n",
              "    <tr>\n",
              "      <th>B-Route</th>\n",
              "      <td>0</td>\n",
              "      <td>0</td>\n",
              "      <td>0</td>\n",
              "      <td>0</td>\n",
              "      <td>1608</td>\n",
              "      <td>0</td>\n",
              "      <td>0</td>\n",
              "      <td>0</td>\n",
              "      <td>0</td>\n",
              "      <td>0</td>\n",
              "      <td>2</td>\n",
              "    </tr>\n",
              "    <tr>\n",
              "      <th>I-Action</th>\n",
              "      <td>0</td>\n",
              "      <td>0</td>\n",
              "      <td>0</td>\n",
              "      <td>0</td>\n",
              "      <td>0</td>\n",
              "      <td>12747</td>\n",
              "      <td>0</td>\n",
              "      <td>0</td>\n",
              "      <td>0</td>\n",
              "      <td>0</td>\n",
              "      <td>0</td>\n",
              "    </tr>\n",
              "    <tr>\n",
              "      <th>I-Dose</th>\n",
              "      <td>0</td>\n",
              "      <td>2</td>\n",
              "      <td>0</td>\n",
              "      <td>0</td>\n",
              "      <td>0</td>\n",
              "      <td>0</td>\n",
              "      <td>361</td>\n",
              "      <td>5</td>\n",
              "      <td>0</td>\n",
              "      <td>0</td>\n",
              "      <td>0</td>\n",
              "    </tr>\n",
              "    <tr>\n",
              "      <th>I-Drug</th>\n",
              "      <td>0</td>\n",
              "      <td>0</td>\n",
              "      <td>27</td>\n",
              "      <td>1</td>\n",
              "      <td>0</td>\n",
              "      <td>0</td>\n",
              "      <td>0</td>\n",
              "      <td>47878</td>\n",
              "      <td>0</td>\n",
              "      <td>0</td>\n",
              "      <td>16</td>\n",
              "    </tr>\n",
              "    <tr>\n",
              "      <th>I-Freq</th>\n",
              "      <td>0</td>\n",
              "      <td>0</td>\n",
              "      <td>0</td>\n",
              "      <td>0</td>\n",
              "      <td>0</td>\n",
              "      <td>0</td>\n",
              "      <td>0</td>\n",
              "      <td>0</td>\n",
              "      <td>1336</td>\n",
              "      <td>0</td>\n",
              "      <td>1</td>\n",
              "    </tr>\n",
              "    <tr>\n",
              "      <th>I-Route</th>\n",
              "      <td>0</td>\n",
              "      <td>0</td>\n",
              "      <td>0</td>\n",
              "      <td>0</td>\n",
              "      <td>0</td>\n",
              "      <td>0</td>\n",
              "      <td>0</td>\n",
              "      <td>0</td>\n",
              "      <td>0</td>\n",
              "      <td>168</td>\n",
              "      <td>0</td>\n",
              "    </tr>\n",
              "    <tr>\n",
              "      <th>o</th>\n",
              "      <td>24</td>\n",
              "      <td>1</td>\n",
              "      <td>10</td>\n",
              "      <td>0</td>\n",
              "      <td>6</td>\n",
              "      <td>12</td>\n",
              "      <td>4</td>\n",
              "      <td>27</td>\n",
              "      <td>3</td>\n",
              "      <td>0</td>\n",
              "      <td>279791</td>\n",
              "    </tr>\n",
              "  </tbody>\n",
              "</table>\n",
              "</div>\n",
              "      <button class=\"colab-df-convert\" onclick=\"convertToInteractive('df-1ae70032-c9c9-481c-90d7-eed10354a0d2')\"\n",
              "              title=\"Convert this dataframe to an interactive table.\"\n",
              "              style=\"display:none;\">\n",
              "        \n",
              "  <svg xmlns=\"http://www.w3.org/2000/svg\" height=\"24px\"viewBox=\"0 0 24 24\"\n",
              "       width=\"24px\">\n",
              "    <path d=\"M0 0h24v24H0V0z\" fill=\"none\"/>\n",
              "    <path d=\"M18.56 5.44l.94 2.06.94-2.06 2.06-.94-2.06-.94-.94-2.06-.94 2.06-2.06.94zm-11 1L8.5 8.5l.94-2.06 2.06-.94-2.06-.94L8.5 2.5l-.94 2.06-2.06.94zm10 10l.94 2.06.94-2.06 2.06-.94-2.06-.94-.94-2.06-.94 2.06-2.06.94z\"/><path d=\"M17.41 7.96l-1.37-1.37c-.4-.4-.92-.59-1.43-.59-.52 0-1.04.2-1.43.59L10.3 9.45l-7.72 7.72c-.78.78-.78 2.05 0 2.83L4 21.41c.39.39.9.59 1.41.59.51 0 1.02-.2 1.41-.59l7.78-7.78 2.81-2.81c.8-.78.8-2.07 0-2.86zM5.41 20L4 18.59l7.72-7.72 1.47 1.35L5.41 20z\"/>\n",
              "  </svg>\n",
              "      </button>\n",
              "      \n",
              "  <style>\n",
              "    .colab-df-container {\n",
              "      display:flex;\n",
              "      flex-wrap:wrap;\n",
              "      gap: 12px;\n",
              "    }\n",
              "\n",
              "    .colab-df-convert {\n",
              "      background-color: #E8F0FE;\n",
              "      border: none;\n",
              "      border-radius: 50%;\n",
              "      cursor: pointer;\n",
              "      display: none;\n",
              "      fill: #1967D2;\n",
              "      height: 32px;\n",
              "      padding: 0 0 0 0;\n",
              "      width: 32px;\n",
              "    }\n",
              "\n",
              "    .colab-df-convert:hover {\n",
              "      background-color: #E2EBFA;\n",
              "      box-shadow: 0px 1px 2px rgba(60, 64, 67, 0.3), 0px 1px 3px 1px rgba(60, 64, 67, 0.15);\n",
              "      fill: #174EA6;\n",
              "    }\n",
              "\n",
              "    [theme=dark] .colab-df-convert {\n",
              "      background-color: #3B4455;\n",
              "      fill: #D2E3FC;\n",
              "    }\n",
              "\n",
              "    [theme=dark] .colab-df-convert:hover {\n",
              "      background-color: #434B5C;\n",
              "      box-shadow: 0px 1px 3px 1px rgba(0, 0, 0, 0.15);\n",
              "      filter: drop-shadow(0px 1px 2px rgba(0, 0, 0, 0.3));\n",
              "      fill: #FFFFFF;\n",
              "    }\n",
              "  </style>\n",
              "\n",
              "      <script>\n",
              "        const buttonEl =\n",
              "          document.querySelector('#df-1ae70032-c9c9-481c-90d7-eed10354a0d2 button.colab-df-convert');\n",
              "        buttonEl.style.display =\n",
              "          google.colab.kernel.accessAllowed ? 'block' : 'none';\n",
              "\n",
              "        async function convertToInteractive(key) {\n",
              "          const element = document.querySelector('#df-1ae70032-c9c9-481c-90d7-eed10354a0d2');\n",
              "          const dataTable =\n",
              "            await google.colab.kernel.invokeFunction('convertToInteractive',\n",
              "                                                     [key], {});\n",
              "          if (!dataTable) return;\n",
              "\n",
              "          const docLinkHtml = 'Like what you see? Visit the ' +\n",
              "            '<a target=\"_blank\" href=https://colab.research.google.com/notebooks/data_table.ipynb>data table notebook</a>'\n",
              "            + ' to learn more about interactive tables.';\n",
              "          element.innerHTML = '';\n",
              "          dataTable['output_type'] = 'display_data';\n",
              "          await google.colab.output.renderOutput(dataTable, element);\n",
              "          const docLink = document.createElement('div');\n",
              "          docLink.innerHTML = docLinkHtml;\n",
              "          element.appendChild(docLink);\n",
              "        }\n",
              "      </script>\n",
              "    </div>\n",
              "  </div>\n",
              "  "
            ]
          },
          "metadata": {},
          "execution_count": 31
        }
      ]
    },
    {
      "cell_type": "code",
      "source": [
        "# Normalise\n",
        "from matplotlib.pyplot import figure\n",
        "\n",
        "cmn = df_confusionMatrix.astype('float') / df_confusionMatrix.sum(axis=1)[:, np.newaxis]\n",
        "fig, ax = plt.subplots(figsize=(15,15))\n",
        "sns.heatmap(cmn, annot=True, fmt='.2f')\n",
        "plt.ylabel('Actual')\n",
        "plt.xlabel('Predicted')\n",
        "plt.show(block=False)"
      ],
      "metadata": {
        "colab": {
          "base_uri": "https://localhost:8080/",
          "height": 936
        },
        "id": "iMolBNkJJayI",
        "outputId": "3731d2b8-d122-4cb1-e0d6-a7c5d1c7e76b"
      },
      "execution_count": null,
      "outputs": [
        {
          "output_type": "stream",
          "name": "stderr",
          "text": [
            "/usr/local/lib/python3.7/dist-packages/ipykernel_launcher.py:4: FutureWarning: Support for multi-dimensional indexing (e.g. `obj[:, None]`) is deprecated and will be removed in a future version.  Convert to a numpy array before indexing instead.\n",
            "  after removing the cwd from sys.path.\n"
          ]
        },
        {
          "output_type": "display_data",
          "data": {
            "text/plain": [
              "<Figure size 1080x1080 with 2 Axes>"
            ],
            "image/png": "[encoded data removed]"
          },
          "metadata": {
            "needs_background": "light"
          }
        }
      ]
    },
    {
      "cell_type": "code",
      "execution_count": null,
      "metadata": {
        "colab": {
          "base_uri": "https://localhost:8080/",
          "height": 427
        },
        "id": "ZGi01qBAgvjD",
        "outputId": "7c43e58e-4fd1-4b8e-9436-adb5e317cc8c"
      },
      "outputs": [
        {
          "output_type": "display_data",
          "data": {
            "text/plain": [
              "<Figure size 864x432 with 1 Axes>"
            ],
            "image/png": "[encoded data removed]"
          },
          "metadata": {}
        }
      ],
      "source": [
        "# Use plot styling from seaborn.\n",
        "sns.set(style='darkgrid')\n",
        "\n",
        "# Increase the plot size and font size.\n",
        "sns.set(font_scale=1.5)\n",
        "plt.rcParams[\"figure.figsize\"] = (12,6)\n",
        "\n",
        "# Plot the learning curve.\n",
        "plt.plot(loss_values, 'b-o', label=\"training loss\")\n",
        "plt.plot(validation_loss_values, 'r-o', label=\"validation loss\")\n",
        "\n",
        "# Label the plot.\n",
        "plt.title(\"Learning curve\")\n",
        "plt.xlabel(\"Epoch\")\n",
        "plt.ylabel(\"Loss\")\n",
        "plt.legend()\n",
        "\n",
        "plt.show()"
      ]
    },
    {
      "cell_type": "code",
      "execution_count": null,
      "metadata": {
        "id": "GlrTSO_bg0Tr"
      },
      "outputs": [],
      "source": [
        "test_sentences = [\"\"\"\"\"\",\"\"\"THis patients states they are taking a drug called acitaminophen this isn't available in this country it is actually known as paracetamol in the united kingdom\"\"\",\"\"\"Biisoprololl Is spelt incorrectly. Should be spelled as bisoprolol and also its dose needs to be increased as it is incorrect\"\"\",\"\"\"The patient last visited their GP in may where they were told to stop taking bisoprolol amitriptyline ramipril and digoxin Can these medications be reviewed and discontinued from the inpatient chart please thank you ben logan pharmacist on ward 3d\"\"\",\"\"\"The drugs included in this note are made up and do not exist in the data set provided randomperidol or madeupdulafungin are two fake drugs that do have a similar strucutre to other drug names\"\"\",\"\"\"Bisoprolol has been prescribed for this patient whoever it interacts with amlodipine. Can it be discontinued\n",
        "\"\"\",\"\"\"Amitriptyline is indicated for neuropathic pain review need to start\"\"\",\"\"\"Adcal has been prescribed in error review need to stop\"\"\",\"\"\"Rocuronium is not indicted for this patient please discontinue\"\"\",\"\"\"alfentanil dose needs increasing to 500mg\"\"\",\"\"\"trastuzumab is an opiod and shouldn't be prescribed for a patient with a eGFR less than 50 please discontinue\"\"\",\"\"\"megatronoprolol interacts with optimusprimulin please discontinue both or start an alternative\"\"\",\"\"\"review need to prescribe Keppra\"\"\",\"\"\"Drs jobs please stop prescription for metoprolol\"\"\", \"\"\"Plazomicin is a drug which did not make it to market and therefore does not exist within the dataset\"\"\",\"\"\"Doses often come fairly straightforward. For instance the dose of trimethoprim is often 200mg. Some drugs such as chlorhexidine may be dosed on their strength e.g. 0.2%. co-trimoxazole although it contains trimethoprim is often dosed on adjusted body weight at 30mg/kg four times a day vials of co-timoxazole also known as septrin come in a strength of 480mg/5ml\"\"\"]"
      ]
    },
    {
      "cell_type": "code",
      "execution_count": null,
      "metadata": {
        "id": "DchIegCDhu39"
      },
      "outputs": [],
      "source": [
        "tested_sentences = []\n",
        "def testSentences(test_sentence):\n",
        "  tokenized_sentence = tokenizer.encode(test_sentence)\n",
        "  input_ids = torch.tensor([tokenized_sentence]).cuda()\n",
        "\n",
        "  with torch.no_grad():\n",
        "      output = model(input_ids)\n",
        "  label_indices = np.argmax(output[0].to('cpu').numpy(), axis=2)\n",
        "\n",
        "  # join bpe split tokens\n",
        "  tokens = tokenizer.convert_ids_to_tokens(input_ids.to('cpu').numpy()[0])\n",
        "  new_tokens, new_labels = [], []\n",
        "  for token, label_idx in zip(tokens, label_indices[0]):\n",
        "      if token.startswith(\"##\"):\n",
        "          new_tokens[-1] = new_tokens[-1] + token[2:]\n",
        "      else:\n",
        "          new_labels.append(tag_values[label_idx])\n",
        "          new_tokens.append(token)\n",
        "\n",
        "  for token, label in zip(new_tokens, new_labels):\n",
        "    tested_sentences.append((token,label))\n",
        "\n",
        "for i in test_sentences:\n",
        "  testSentences(i)"
      ]
    },
    {
      "cell_type": "code",
      "execution_count": null,
      "metadata": {
        "id": "XtFmjhMBhw-1",
        "colab": {
          "base_uri": "https://localhost:8080/",
          "height": 1000
        },
        "outputId": "17497da8-0acc-4c8e-c6d1-999f5e388fd9"
      },
      "outputs": [
        {
          "output_type": "display_data",
          "data": {
            "text/plain": [
              "<IPython.core.display.HTML object>"
            ],
            "text/html": [
              "<h1> Test Sentences </h1><br/><br/><span> THis </span><span> patients </span><span> states </span><span> they </span><span> are </span><span> taking </span><span> a </span><span> drug </span><span> called </span><span style=\"background-color: #FF6663; line-height:30px; display:inline-block;\"> <b>acitaminophen (B-Drug)</b></span> <span> this </span><span> isn </span><span> ' </span><span> t </span><span> available </span><span> in </span><span> this </span><span> country </span><span> it </span><span> is </span><span> actually </span><span> known </span><span> as </span><span style=\"background-color: #FF6663; line-height:30px; display:inline-block;\"> <b>paracetamol (B-Drug)</b></span> <span> in </span><span> the </span><span> united </span><span> kingdom </span><br/><br/><span style=\"background-color: #FF6663; line-height:30px; display:inline-block;\"> <b>Biisoprololl (B-Drug)</b></span> <span> Is </span><span> spelt </span><span> incorrectly </span><span> . </span><span> Should </span><span> be </span><span> spelled </span><span> as </span><span style=\"background-color: #FF6663; line-height:30px; display:inline-block;\"> <b>bisoprolol (B-Drug)</b></span> <span> and </span><span> also </span><span> its </span><span> dose </span><span> needs </span><span> to </span><span> be </span><span style=\"background-color: #FF6663; line-height:30px; display:inline-block;\"> <b>increased (B-Action)</b></span> <span> as </span><span> it </span><span> is </span><span> incorrect </span><br/><br/><span> The </span><span> patient </span><span> last </span><span> visited </span><span> their </span><span> GP </span><span> in </span><span> may </span><span> where </span><span> they </span><span> were </span><span> told </span><span> to </span><span style=\"background-color: #FF6663; line-height:30px; display:inline-block;\"> <b>stop (B-Action)</b></span> <span> taking </span><span style=\"background-color: #FF6663; line-height:30px; display:inline-block;\"> <b>bisoprolol (B-Drug)</b></span> <span style=\"background-color: #FF6663; line-height:30px; display:inline-block;\"> <b>amitriptyline (B-Drug)</b></span> <span style=\"background-color: #FF6663; line-height:30px; display:inline-block;\"> <b>ramipril (B-Drug)</b></span> <span> and </span><span style=\"background-color: #FF6663; line-height:30px; display:inline-block;\"> <b>digoxin (B-Drug)</b></span> <span> Can </span><span> these </span><span> medications </span><span> be </span><span> reviewed </span><span> and </span><span style=\"background-color: #FF6663; line-height:30px; display:inline-block;\"> <b>discontinued (B-Action)</b></span> <span> from </span><span> the </span><span> inpatient </span><span> chart </span><span> please </span><span> thank </span><span> you </span><span> ben </span><span> logan </span><span> pharmacist </span><span> on </span><span> ward </span><span> 3d </span><br/><br/><span> The </span><span> drugs </span><span> included </span><span> in </span><span> this </span><span> note </span><span> are </span><span> made </span><span> up </span><span> and </span><span> do </span><span> not </span><span> exist </span><span> in </span><span> the </span><span> data </span><span> set </span><span> provided </span><span style=\"background-color: #FF6663; line-height:30px; display:inline-block;\"> <b>randomperidol (B-Drug)</b></span> <span> or </span><span style=\"background-color: #FF6663; line-height:30px; display:inline-block;\"> <b>madeupdulafungin (B-Drug)</b></span> <span> are </span><span> two </span><span> fake </span><span> drugs </span><span> that </span><span> do </span><span> have </span><span> a </span><span> similar </span><span> strucutre </span><span> to </span><span> other </span><span> drug </span><span> names </span><br/><br/><span style=\"background-color: #FF6663; line-height:30px; display:inline-block;\"> <b>Bisoprolol (B-Drug)</b></span> <span> has </span><span> been </span><span> prescribed </span><span> for </span><span> this </span><span> patient </span><span> whoever </span><span> it </span><span> interacts </span><span> with </span><span style=\"background-color: #FF6663; line-height:30px; display:inline-block;\"> <b>amlodipine (B-Drug)</b></span> <span> . </span><span> Can </span><span> it </span><span> be </span><span style=\"background-color: #FF6663; line-height:30px; display:inline-block;\"> <b>discontinued (B-Action)</b></span> <br/><br/><span style=\"background-color: #FF6663; line-height:30px; display:inline-block;\"> <b>Amitriptyline (B-Drug)</b></span> <span> is </span><span> indicated </span><span> for </span><span> neuropathic </span><span> pain </span><span> review </span><span> need </span><span> to </span><span style=\"background-color: #FF6663; line-height:30px; display:inline-block;\"> <b>start (B-Action)</b></span> <br/><br/><span style=\"background-color: #FF6663; line-height:30px; display:inline-block;\"> <b>Adcal (B-Drug)</b></span> <span> has </span><span> been </span><span> prescribed </span><span> in </span><span> error </span><span> review </span><span> need </span><span> to </span><span style=\"background-color: #FF6663; line-height:30px; display:inline-block;\"> <b>stop (B-Action)</b></span> <br/><br/><span style=\"background-color: #FF6663; line-height:30px; display:inline-block;\"> <b>Rocuronium (B-Drug)</b></span> <span> is </span><span> not </span><span> indicted </span><span> for </span><span> this </span><span> patient </span><span> please </span><span style=\"background-color: #FF6663; line-height:30px; display:inline-block;\"> <b>discontinue (B-Action)</b></span> <br/><br/><span style=\"background-color: #FF6663; line-height:30px; display:inline-block;\"> <b>alfentanil (B-Drug)</b></span> <span> dose </span><span> needs </span><span style=\"background-color: #FF6663; line-height:30px; display:inline-block;\"> <b>increasing (B-Action)</b></span> <span> to </span><span style=\"background-color: #FF6663; line-height:30px; display:inline-block;\"> <b>500mg (B-Dose)</b></span> <br/><br/><span style=\"background-color: #FF6663; line-height:30px; display:inline-block;\"> <b>trastuzumab (B-Drug)</b></span> <span> is </span><span> an </span><span> opiod </span><span> and </span><span> shouldn </span><span> ' </span><span> t </span><span> be </span><span> prescribed </span><span> for </span><span> a </span><span> patient </span><span> with </span><span> a </span><span> eGFR </span><span> less </span><span> than </span><span> 50 </span><span> please </span><span style=\"background-color: #FF6663; line-height:30px; display:inline-block;\"> <b>discontinue (B-Action)</b></span> <br/><br/><span style=\"background-color: #FF6663; line-height:30px; display:inline-block;\"> <b>megatronoprolol (B-Drug)</b></span> <span> interacts </span><span> with </span><span style=\"background-color: #FF6663; line-height:30px; display:inline-block;\"> <b>optimusprimulin (B-Drug)</b></span> <span> please </span><span style=\"background-color: #FF6663; line-height:30px; display:inline-block;\"> <b>discontinue (B-Action)</b></span> <span> both </span><span> or </span><span style=\"background-color: #FF6663; line-height:30px; display:inline-block;\"> <b>start (B-Action)</b></span> <span> an </span><span> alternative </span><br/><br/><span> review </span><span> need </span><span> to </span><span style=\"background-color: #FF6663; line-height:30px; display:inline-block;\"> <b>prescribe (B-Action)</b></span> <span style=\"background-color: #FF6663; line-height:30px; display:inline-block;\"> <b>Keppra (B-Drug)</b></span> <br/><br/><span> Drs </span><span> jobs </span><span> please </span><span style=\"background-color: #FF6663; line-height:30px; display:inline-block;\"> <b>stop (B-Action)</b></span> <span> prescription </span><span> for </span><span style=\"background-color: #FF6663; line-height:30px; display:inline-block;\"> <b>metoprolol (B-Drug)</b></span> <br/><br/><span style=\"background-color: #FF6663; line-height:30px; display:inline-block;\"> <b>Plazomicin (B-Drug)</b></span> <span> is </span><span> a </span><span> drug </span><span> which </span><span> did </span><span> not </span><span> make </span><span> it </span><span> to </span><span> market </span><span> and </span><span> therefore </span><span> does </span><span> not </span><span> exist </span><span> within </span><span> the </span><span> dataset </span><br/><br/><span> Doses </span><span> often </span><span> come </span><span> fairly </span><span> straightforward </span><span style=\"background-color: #FF6663; line-height:30px; display:inline-block;\"> <b>. (B-Drug)</b></span> <span> For </span><span> instance </span><span> the </span><span> dose </span><span> of </span><span style=\"background-color: #FF6663; line-height:30px; display:inline-block;\"> <b>trimethoprim (B-Drug)</b></span> <span> is </span><span> often </span><span style=\"background-color: #FF6663; line-height:30px; display:inline-block;\"> <b>200mg (B-Dose)</b></span> <span style=\"background-color: #FF6663; line-height:30px; display:inline-block;\"> <b>. (B-Drug)</b></span> <span> Some </span><span> drugs </span><span> such </span><span> as </span><span style=\"background-color: #FF6663; line-height:30px; display:inline-block;\"> <b>chlorhexidine (B-Drug)</b></span> <span> may </span><span> be </span><span> dosed </span><span> on </span><span> their </span><span> strength </span><span> e </span><span> . </span><span> g </span><span> . </span><span style=\"background-color: #FF6663; line-height:30px; display:inline-block;\"> <b>0 (I-Drug)</b></span> <span style=\"background-color: #FF6663; line-height:30px; display:inline-block;\"> <b>. (I-Drug)</b></span> <span style=\"background-color: #FF6663; line-height:30px; display:inline-block;\"> <b>2 (I-Drug)</b></span> <span style=\"background-color: #FF6663; line-height:30px; display:inline-block;\"> <b>% (I-Drug)</b></span> <span> . </span><span style=\"background-color: #FF6663; line-height:30px; display:inline-block;\"> <b>co (B-Drug)</b></span> <span style=\"background-color: #FF6663; line-height:30px; display:inline-block;\"> <b>- (B-Drug)</b></span> <span style=\"background-color: #FF6663; line-height:30px; display:inline-block;\"> <b>trimoxazole (B-Drug)</b></span> <span> although </span><span> it </span><span> contains </span><span style=\"background-color: #FF6663; line-height:30px; display:inline-block;\"> <b>trimethoprim (B-Drug)</b></span> <span> is </span><span> often </span><span> dosed </span><span> on </span><span> adjusted </span><span> body </span><span> weight </span><span> at </span><span style=\"background-color: #FF6663; line-height:30px; display:inline-block;\"> <b>30mg (B-Dose)</b></span> <span style=\"background-color: #FF6663; line-height:30px; display:inline-block;\"> <b>/ (I-Drug)</b></span> <span style=\"background-color: #FF6663; line-height:30px; display:inline-block;\"> <b>kg (I-Drug)</b></span> <span style=\"background-color: #FF6663; line-height:30px; display:inline-block;\"> <b>four (B-Freq)</b></span> <span style=\"background-color: #FF6663; line-height:30px; display:inline-block;\"> <b>times (I-Freq)</b></span> <span style=\"background-color: #FF6663; line-height:30px; display:inline-block;\"> <b>a (I-Freq)</b></span> <span style=\"background-color: #FF6663; line-height:30px; display:inline-block;\"> <b>day (I-Freq)</b></span> <span style=\"background-color: #FF6663; line-height:30px; display:inline-block;\"> <b>vials (B-Drug)</b></span> <span> of </span><span style=\"background-color: #FF6663; line-height:30px; display:inline-block;\"> <b>co (B-Drug)</b></span> <span style=\"background-color: #FF6663; line-height:30px; display:inline-block;\"> <b>- (B-Drug)</b></span> <span style=\"background-color: #FF6663; line-height:30px; display:inline-block;\"> <b>timoxazole (B-Drug)</b></span> <span> also </span><span> known </span><span> as </span><span style=\"background-color: #FF6663; line-height:30px; display:inline-block;\"> <b>septrin (B-Drug)</b></span> <span> come </span><span> in </span><span> a </span><span> strength </span><span> of </span><span style=\"background-color: #FF6663; line-height:30px; display:inline-block;\"> <b>480mg (B-Dose)</b></span> <span style=\"background-color: #FF6663; line-height:30px; display:inline-block;\"> <b>/ (I-Drug)</b></span> <span style=\"background-color: #FF6663; line-height:30px; display:inline-block;\"> <b>5ml (I-Drug)</b></span> <br/><br/>"
            ]
          },
          "metadata": {}
        }
      ],
      "source": [
        "from IPython.core.display import display, HTML\n",
        "\n",
        "\n",
        "\n",
        "testedHTML = '<h1> Test Sentences </h1>'\n",
        "for i in tested_sentences:\n",
        "  if i[0] != '[CLS]' and i[0] != '[SEP]':\n",
        "    if i[1] != 'o':\n",
        "      testedHTML += f'<span style=\"background-color: #FF6663; line-height:30px; display:inline-block;\"> <b>{i[0]} ({i[1]})</b></span> '\n",
        "    else:\n",
        "      testedHTML += f'<span> {i[0]} </span>'\n",
        "  if i[0] == '[SEP]':\n",
        "    testedHTML += '<br/><br/>'\n",
        "\n",
        "display(HTML(testedHTML))\n"
      ]
    },
    {
      "cell_type": "code",
      "execution_count": null,
      "metadata": {
        "id": "C6W0Tlfvhy-B"
      },
      "outputs": [],
      "source": [
        "torch.save(model.state_dict(), 'model_weights2.pt')"
      ]
    },
    {
      "cell_type": "markdown",
      "source": [],
      "metadata": {
        "id": "e6evts3t3YVg"
      }
    }
  ],
  "metadata": {
    "accelerator": "GPU",
    "colab": {
      "machine_shape": "hm",
      "provenance": [],
      "gpuClass": "premium"
    },
    "gpuClass": "premium",
    "kernelspec": {
      "display_name": "Python 3",
      "name": "python3"
    },
    "language_info": {
      "name": "python"
    },
    "widgets": {
      "application/vnd.jupyter.widget-state+json": {
        "92a87b4f2db84f4f950aea8d5bfbcb11": {
          "model_module": "@jupyter-widgets/controls",
          "model_name": "HBoxModel",
          "model_module_version": "1.5.0",
          "state": {
            "_dom_classes": [],
            "_model_module": "@jupyter-widgets/controls",
            "_model_module_version": "1.5.0",
            "_model_name": "HBoxModel",
            "_view_count": null,
            "_view_module": "@jupyter-widgets/controls",
            "_view_module_version": "1.5.0",
            "_view_name": "HBoxView",
            "box_style": "",
            "children": [
              "IPY_MODEL_29f55ff5480a438fb798ec6173ce894a",
              "IPY_MODEL_e735f07c27af40148377b06af9d49ccc",
              "IPY_MODEL_54281ee79ed24fa2996564279b8f8e36"
            ],
            "layout": "IPY_MODEL_cdc54ebbd6fb4783b9f537db80000f4c"
          }
        },
        "29f55ff5480a438fb798ec6173ce894a": {
          "model_module": "@jupyter-widgets/controls",
          "model_name": "HTMLModel",
          "model_module_version": "1.5.0",
          "state": {
            "_dom_classes": [],
            "_model_module": "@jupyter-widgets/controls",
            "_model_module_version": "1.5.0",
            "_model_name": "HTMLModel",
            "_view_count": null,
            "_view_module": "@jupyter-widgets/controls",
            "_view_module_version": "1.5.0",
            "_view_name": "HTMLView",
            "description": "",
            "description_tooltip": null,
            "layout": "IPY_MODEL_dfe6118fc6fb46ba8443181de425e1b1",
            "placeholder": "​",
            "style": "IPY_MODEL_db0cdbaf54fd4595b8de447e40777f22",
            "value": "Downloading: 100%"
          }
        },
        "e735f07c27af40148377b06af9d49ccc": {
          "model_module": "@jupyter-widgets/controls",
          "model_name": "FloatProgressModel",
          "model_module_version": "1.5.0",
          "state": {
            "_dom_classes": [],
            "_model_module": "@jupyter-widgets/controls",
            "_model_module_version": "1.5.0",
            "_model_name": "FloatProgressModel",
            "_view_count": null,
            "_view_module": "@jupyter-widgets/controls",
            "_view_module_version": "1.5.0",
            "_view_name": "ProgressView",
            "bar_style": "success",
            "description": "",
            "description_tooltip": null,
            "layout": "IPY_MODEL_b911b46a58284c4b9d2221f773e93a65",
            "max": 213450,
            "min": 0,
            "orientation": "horizontal",
            "style": "IPY_MODEL_fb90a70a2c4a4c92982172bbdf6c156f",
            "value": 213450
          }
        },
        "54281ee79ed24fa2996564279b8f8e36": {
          "model_module": "@jupyter-widgets/controls",
          "model_name": "HTMLModel",
          "model_module_version": "1.5.0",
          "state": {
            "_dom_classes": [],
            "_model_module": "@jupyter-widgets/controls",
            "_model_module_version": "1.5.0",
            "_model_name": "HTMLModel",
            "_view_count": null,
            "_view_module": "@jupyter-widgets/controls",
            "_view_module_version": "1.5.0",
            "_view_name": "HTMLView",
            "description": "",
            "description_tooltip": null,
            "layout": "IPY_MODEL_27a30c3abc334c97a99391e97ddec799",
            "placeholder": "​",
            "style": "IPY_MODEL_76fec4d01a11440e8fdfe73737925c54",
            "value": " 213k/213k [00:00&lt;00:00, 1.80MB/s]"
          }
        },
        "cdc54ebbd6fb4783b9f537db80000f4c": {
          "model_module": "@jupyter-widgets/base",
          "model_name": "LayoutModel",
          "model_module_version": "1.2.0",
          "state": {
            "_model_module": "@jupyter-widgets/base",
            "_model_module_version": "1.2.0",
            "_model_name": "LayoutModel",
            "_view_count": null,
            "_view_module": "@jupyter-widgets/base",
            "_view_module_version": "1.2.0",
            "_view_name": "LayoutView",
            "align_content": null,
            "align_items": null,
            "align_self": null,
            "border": null,
            "bottom": null,
            "display": null,
            "flex": null,
            "flex_flow": null,
            "grid_area": null,
            "grid_auto_columns": null,
            "grid_auto_flow": null,
            "grid_auto_rows": null,
            "grid_column": null,
            "grid_gap": null,
            "grid_row": null,
            "grid_template_areas": null,
            "grid_template_columns": null,
            "grid_template_rows": null,
            "height": null,
            "justify_content": null,
            "justify_items": null,
            "left": null,
            "margin": null,
            "max_height": null,
            "max_width": null,
            "min_height": null,
            "min_width": null,
            "object_fit": null,
            "object_position": null,
            "order": null,
            "overflow": null,
            "overflow_x": null,
            "overflow_y": null,
            "padding": null,
            "right": null,
            "top": null,
            "visibility": null,
            "width": null
          }
        },
        "dfe6118fc6fb46ba8443181de425e1b1": {
          "model_module": "@jupyter-widgets/base",
          "model_name": "LayoutModel",
          "model_module_version": "1.2.0",
          "state": {
            "_model_module": "@jupyter-widgets/base",
            "_model_module_version": "1.2.0",
            "_model_name": "LayoutModel",
            "_view_count": null,
            "_view_module": "@jupyter-widgets/base",
            "_view_module_version": "1.2.0",
            "_view_name": "LayoutView",
            "align_content": null,
            "align_items": null,
            "align_self": null,
            "border": null,
            "bottom": null,
            "display": null,
            "flex": null,
            "flex_flow": null,
            "grid_area": null,
            "grid_auto_columns": null,
            "grid_auto_flow": null,
            "grid_auto_rows": null,
            "grid_column": null,
            "grid_gap": null,
            "grid_row": null,
            "grid_template_areas": null,
            "grid_template_columns": null,
            "grid_template_rows": null,
            "height": null,
            "justify_content": null,
            "justify_items": null,
            "left": null,
            "margin": null,
            "max_height": null,
            "max_width": null,
            "min_height": null,
            "min_width": null,
            "object_fit": null,
            "object_position": null,
            "order": null,
            "overflow": null,
            "overflow_x": null,
            "overflow_y": null,
            "padding": null,
            "right": null,
            "top": null,
            "visibility": null,
            "width": null
          }
        },
        "db0cdbaf54fd4595b8de447e40777f22": {
          "model_module": "@jupyter-widgets/controls",
          "model_name": "DescriptionStyleModel",
          "model_module_version": "1.5.0",
          "state": {
            "_model_module": "@jupyter-widgets/controls",
            "_model_module_version": "1.5.0",
            "_model_name": "DescriptionStyleModel",
            "_view_count": null,
            "_view_module": "@jupyter-widgets/base",
            "_view_module_version": "1.2.0",
            "_view_name": "StyleView",
            "description_width": ""
          }
        },
        "b911b46a58284c4b9d2221f773e93a65": {
          "model_module": "@jupyter-widgets/base",
          "model_name": "LayoutModel",
          "model_module_version": "1.2.0",
          "state": {
            "_model_module": "@jupyter-widgets/base",
            "_model_module_version": "1.2.0",
            "_model_name": "LayoutModel",
            "_view_count": null,
            "_view_module": "@jupyter-widgets/base",
            "_view_module_version": "1.2.0",
            "_view_name": "LayoutView",
            "align_content": null,
            "align_items": null,
            "align_self": null,
            "border": null,
            "bottom": null,
            "display": null,
            "flex": null,
            "flex_flow": null,
            "grid_area": null,
            "grid_auto_columns": null,
            "grid_auto_flow": null,
            "grid_auto_rows": null,
            "grid_column": null,
            "grid_gap": null,
            "grid_row": null,
            "grid_template_areas": null,
            "grid_template_columns": null,
            "grid_template_rows": null,
            "height": null,
            "justify_content": null,
            "justify_items": null,
            "left": null,
            "margin": null,
            "max_height": null,
            "max_width": null,
            "min_height": null,
            "min_width": null,
            "object_fit": null,
            "object_position": null,
            "order": null,
            "overflow": null,
            "overflow_x": null,
            "overflow_y": null,
            "padding": null,
            "right": null,
            "top": null,
            "visibility": null,
            "width": null
          }
        },
        "fb90a70a2c4a4c92982172bbdf6c156f": {
          "model_module": "@jupyter-widgets/controls",
          "model_name": "ProgressStyleModel",
          "model_module_version": "1.5.0",
          "state": {
            "_model_module": "@jupyter-widgets/controls",
            "_model_module_version": "1.5.0",
            "_model_name": "ProgressStyleModel",
            "_view_count": null,
            "_view_module": "@jupyter-widgets/base",
            "_view_module_version": "1.2.0",
            "_view_name": "StyleView",
            "bar_color": null,
            "description_width": ""
          }
        },
        "27a30c3abc334c97a99391e97ddec799": {
          "model_module": "@jupyter-widgets/base",
          "model_name": "LayoutModel",
          "model_module_version": "1.2.0",
          "state": {
            "_model_module": "@jupyter-widgets/base",
            "_model_module_version": "1.2.0",
            "_model_name": "LayoutModel",
            "_view_count": null,
            "_view_module": "@jupyter-widgets/base",
            "_view_module_version": "1.2.0",
            "_view_name": "LayoutView",
            "align_content": null,
            "align_items": null,
            "align_self": null,
            "border": null,
            "bottom": null,
            "display": null,
            "flex": null,
            "flex_flow": null,
            "grid_area": null,
            "grid_auto_columns": null,
            "grid_auto_flow": null,
            "grid_auto_rows": null,
            "grid_column": null,
            "grid_gap": null,
            "grid_row": null,
            "grid_template_areas": null,
            "grid_template_columns": null,
            "grid_template_rows": null,
            "height": null,
            "justify_content": null,
            "justify_items": null,
            "left": null,
            "margin": null,
            "max_height": null,
            "max_width": null,
            "min_height": null,
            "min_width": null,
            "object_fit": null,
            "object_position": null,
            "order": null,
            "overflow": null,
            "overflow_x": null,
            "overflow_y": null,
            "padding": null,
            "right": null,
            "top": null,
            "visibility": null,
            "width": null
          }
        },
        "76fec4d01a11440e8fdfe73737925c54": {
          "model_module": "@jupyter-widgets/controls",
          "model_name": "DescriptionStyleModel",
          "model_module_version": "1.5.0",
          "state": {
            "_model_module": "@jupyter-widgets/controls",
            "_model_module_version": "1.5.0",
            "_model_name": "DescriptionStyleModel",
            "_view_count": null,
            "_view_module": "@jupyter-widgets/base",
            "_view_module_version": "1.2.0",
            "_view_name": "StyleView",
            "description_width": ""
          }
        },
        "967390e757064506867db554c1f494ba": {
          "model_module": "@jupyter-widgets/controls",
          "model_name": "HBoxModel",
          "model_module_version": "1.5.0",
          "state": {
            "_dom_classes": [],
            "_model_module": "@jupyter-widgets/controls",
            "_model_module_version": "1.5.0",
            "_model_name": "HBoxModel",
            "_view_count": null,
            "_view_module": "@jupyter-widgets/controls",
            "_view_module_version": "1.5.0",
            "_view_name": "HBoxView",
            "box_style": "",
            "children": [
              "IPY_MODEL_c97f4335fafe4601bba64f27e181a605",
              "IPY_MODEL_718afaf8f65d46e89488e45c9505730f",
              "IPY_MODEL_982fc07689d743adbea617c52834ce03"
            ],
            "layout": "IPY_MODEL_a30c2590ef724c598d2bd4737386beec"
          }
        },
        "c97f4335fafe4601bba64f27e181a605": {
          "model_module": "@jupyter-widgets/controls",
          "model_name": "HTMLModel",
          "model_module_version": "1.5.0",
          "state": {
            "_dom_classes": [],
            "_model_module": "@jupyter-widgets/controls",
            "_model_module_version": "1.5.0",
            "_model_name": "HTMLModel",
            "_view_count": null,
            "_view_module": "@jupyter-widgets/controls",
            "_view_module_version": "1.5.0",
            "_view_name": "HTMLView",
            "description": "",
            "description_tooltip": null,
            "layout": "IPY_MODEL_536506c1438e4ac4beda2f124ea73a69",
            "placeholder": "​",
            "style": "IPY_MODEL_a0bcb718845047afae71c40852586314",
            "value": "Downloading: 100%"
          }
        },
        "718afaf8f65d46e89488e45c9505730f": {
          "model_module": "@jupyter-widgets/controls",
          "model_name": "FloatProgressModel",
          "model_module_version": "1.5.0",
          "state": {
            "_dom_classes": [],
            "_model_module": "@jupyter-widgets/controls",
            "_model_module_version": "1.5.0",
            "_model_name": "FloatProgressModel",
            "_view_count": null,
            "_view_module": "@jupyter-widgets/controls",
            "_view_module_version": "1.5.0",
            "_view_name": "ProgressView",
            "bar_style": "success",
            "description": "",
            "description_tooltip": null,
            "layout": "IPY_MODEL_e0633524641144b7bb95e3014bda321b",
            "max": 29,
            "min": 0,
            "orientation": "horizontal",
            "style": "IPY_MODEL_5449d2b1a3c441ffb9511895eeb89c50",
            "value": 29
          }
        },
        "982fc07689d743adbea617c52834ce03": {
          "model_module": "@jupyter-widgets/controls",
          "model_name": "HTMLModel",
          "model_module_version": "1.5.0",
          "state": {
            "_dom_classes": [],
            "_model_module": "@jupyter-widgets/controls",
            "_model_module_version": "1.5.0",
            "_model_name": "HTMLModel",
            "_view_count": null,
            "_view_module": "@jupyter-widgets/controls",
            "_view_module_version": "1.5.0",
            "_view_name": "HTMLView",
            "description": "",
            "description_tooltip": null,
            "layout": "IPY_MODEL_ea6395b0e43440d887a442c313050fbb",
            "placeholder": "​",
            "style": "IPY_MODEL_c2e40439ba024c2caa7c777621f0bc28",
            "value": " 29.0/29.0 [00:00&lt;00:00, 1.10kB/s]"
          }
        },
        "a30c2590ef724c598d2bd4737386beec": {
          "model_module": "@jupyter-widgets/base",
          "model_name": "LayoutModel",
          "model_module_version": "1.2.0",
          "state": {
            "_model_module": "@jupyter-widgets/base",
            "_model_module_version": "1.2.0",
            "_model_name": "LayoutModel",
            "_view_count": null,
            "_view_module": "@jupyter-widgets/base",
            "_view_module_version": "1.2.0",
            "_view_name": "LayoutView",
            "align_content": null,
            "align_items": null,
            "align_self": null,
            "border": null,
            "bottom": null,
            "display": null,
            "flex": null,
            "flex_flow": null,
            "grid_area": null,
            "grid_auto_columns": null,
            "grid_auto_flow": null,
            "grid_auto_rows": null,
            "grid_column": null,
            "grid_gap": null,
            "grid_row": null,
            "grid_template_areas": null,
            "grid_template_columns": null,
            "grid_template_rows": null,
            "height": null,
            "justify_content": null,
            "justify_items": null,
            "left": null,
            "margin": null,
            "max_height": null,
            "max_width": null,
            "min_height": null,
            "min_width": null,
            "object_fit": null,
            "object_position": null,
            "order": null,
            "overflow": null,
            "overflow_x": null,
            "overflow_y": null,
            "padding": null,
            "right": null,
            "top": null,
            "visibility": null,
            "width": null
          }
        },
        "536506c1438e4ac4beda2f124ea73a69": {
          "model_module": "@jupyter-widgets/base",
          "model_name": "LayoutModel",
          "model_module_version": "1.2.0",
          "state": {
            "_model_module": "@jupyter-widgets/base",
            "_model_module_version": "1.2.0",
            "_model_name": "LayoutModel",
            "_view_count": null,
            "_view_module": "@jupyter-widgets/base",
            "_view_module_version": "1.2.0",
            "_view_name": "LayoutView",
            "align_content": null,
            "align_items": null,
            "align_self": null,
            "border": null,
            "bottom": null,
            "display": null,
            "flex": null,
            "flex_flow": null,
            "grid_area": null,
            "grid_auto_columns": null,
            "grid_auto_flow": null,
            "grid_auto_rows": null,
            "grid_column": null,
            "grid_gap": null,
            "grid_row": null,
            "grid_template_areas": null,
            "grid_template_columns": null,
            "grid_template_rows": null,
            "height": null,
            "justify_content": null,
            "justify_items": null,
            "left": null,
            "margin": null,
            "max_height": null,
            "max_width": null,
            "min_height": null,
            "min_width": null,
            "object_fit": null,
            "object_position": null,
            "order": null,
            "overflow": null,
            "overflow_x": null,
            "overflow_y": null,
            "padding": null,
            "right": null,
            "top": null,
            "visibility": null,
            "width": null
          }
        },
        "a0bcb718845047afae71c40852586314": {
          "model_module": "@jupyter-widgets/controls",
          "model_name": "DescriptionStyleModel",
          "model_module_version": "1.5.0",
          "state": {
            "_model_module": "@jupyter-widgets/controls",
            "_model_module_version": "1.5.0",
            "_model_name": "DescriptionStyleModel",
            "_view_count": null,
            "_view_module": "@jupyter-widgets/base",
            "_view_module_version": "1.2.0",
            "_view_name": "StyleView",
            "description_width": ""
          }
        },
        "e0633524641144b7bb95e3014bda321b": {
          "model_module": "@jupyter-widgets/base",
          "model_name": "LayoutModel",
          "model_module_version": "1.2.0",
          "state": {
            "_model_module": "@jupyter-widgets/base",
            "_model_module_version": "1.2.0",
            "_model_name": "LayoutModel",
            "_view_count": null,
            "_view_module": "@jupyter-widgets/base",
            "_view_module_version": "1.2.0",
            "_view_name": "LayoutView",
            "align_content": null,
            "align_items": null,
            "align_self": null,
            "border": null,
            "bottom": null,
            "display": null,
            "flex": null,
            "flex_flow": null,
            "grid_area": null,
            "grid_auto_columns": null,
            "grid_auto_flow": null,
            "grid_auto_rows": null,
            "grid_column": null,
            "grid_gap": null,
            "grid_row": null,
            "grid_template_areas": null,
            "grid_template_columns": null,
            "grid_template_rows": null,
            "height": null,
            "justify_content": null,
            "justify_items": null,
            "left": null,
            "margin": null,
            "max_height": null,
            "max_width": null,
            "min_height": null,
            "min_width": null,
            "object_fit": null,
            "object_position": null,
            "order": null,
            "overflow": null,
            "overflow_x": null,
            "overflow_y": null,
            "padding": null,
            "right": null,
            "top": null,
            "visibility": null,
            "width": null
          }
        },
        "5449d2b1a3c441ffb9511895eeb89c50": {
          "model_module": "@jupyter-widgets/controls",
          "model_name": "ProgressStyleModel",
          "model_module_version": "1.5.0",
          "state": {
            "_model_module": "@jupyter-widgets/controls",
            "_model_module_version": "1.5.0",
            "_model_name": "ProgressStyleModel",
            "_view_count": null,
            "_view_module": "@jupyter-widgets/base",
            "_view_module_version": "1.2.0",
            "_view_name": "StyleView",
            "bar_color": null,
            "description_width": ""
          }
        },
        "ea6395b0e43440d887a442c313050fbb": {
          "model_module": "@jupyter-widgets/base",
          "model_name": "LayoutModel",
          "model_module_version": "1.2.0",
          "state": {
            "_model_module": "@jupyter-widgets/base",
            "_model_module_version": "1.2.0",
            "_model_name": "LayoutModel",
            "_view_count": null,
            "_view_module": "@jupyter-widgets/base",
            "_view_module_version": "1.2.0",
            "_view_name": "LayoutView",
            "align_content": null,
            "align_items": null,
            "align_self": null,
            "border": null,
            "bottom": null,
            "display": null,
            "flex": null,
            "flex_flow": null,
            "grid_area": null,
            "grid_auto_columns": null,
            "grid_auto_flow": null,
            "grid_auto_rows": null,
            "grid_column": null,
            "grid_gap": null,
            "grid_row": null,
            "grid_template_areas": null,
            "grid_template_columns": null,
            "grid_template_rows": null,
            "height": null,
            "justify_content": null,
            "justify_items": null,
            "left": null,
            "margin": null,
            "max_height": null,
            "max_width": null,
            "min_height": null,
            "min_width": null,
            "object_fit": null,
            "object_position": null,
            "order": null,
            "overflow": null,
            "overflow_x": null,
            "overflow_y": null,
            "padding": null,
            "right": null,
            "top": null,
            "visibility": null,
            "width": null
          }
        },
        "c2e40439ba024c2caa7c777621f0bc28": {
          "model_module": "@jupyter-widgets/controls",
          "model_name": "DescriptionStyleModel",
          "model_module_version": "1.5.0",
          "state": {
            "_model_module": "@jupyter-widgets/controls",
            "_model_module_version": "1.5.0",
            "_model_name": "DescriptionStyleModel",
            "_view_count": null,
            "_view_module": "@jupyter-widgets/base",
            "_view_module_version": "1.2.0",
            "_view_name": "StyleView",
            "description_width": ""
          }
        },
        "40ca8eb3c91945c5b26ece87ba850bd6": {
          "model_module": "@jupyter-widgets/controls",
          "model_name": "HBoxModel",
          "model_module_version": "1.5.0",
          "state": {
            "_dom_classes": [],
            "_model_module": "@jupyter-widgets/controls",
            "_model_module_version": "1.5.0",
            "_model_name": "HBoxModel",
            "_view_count": null,
            "_view_module": "@jupyter-widgets/controls",
            "_view_module_version": "1.5.0",
            "_view_name": "HBoxView",
            "box_style": "",
            "children": [
              "IPY_MODEL_47c072272f48485289084bb5056f5d8d",
              "IPY_MODEL_007d7b91201c4d7383f7b25f4d93a315",
              "IPY_MODEL_eba0728065c540a882b0ec6c6fe241b2"
            ],
            "layout": "IPY_MODEL_1939d956d5ff4a51878ce86ffb9a567b"
          }
        },
        "47c072272f48485289084bb5056f5d8d": {
          "model_module": "@jupyter-widgets/controls",
          "model_name": "HTMLModel",
          "model_module_version": "1.5.0",
          "state": {
            "_dom_classes": [],
            "_model_module": "@jupyter-widgets/controls",
            "_model_module_version": "1.5.0",
            "_model_name": "HTMLModel",
            "_view_count": null,
            "_view_module": "@jupyter-widgets/controls",
            "_view_module_version": "1.5.0",
            "_view_name": "HTMLView",
            "description": "",
            "description_tooltip": null,
            "layout": "IPY_MODEL_a961cf8c82ba4fcf8dd4fa020fb22206",
            "placeholder": "​",
            "style": "IPY_MODEL_cb4480f617e04e0f9cebef67406ecb9e",
            "value": "Downloading: 100%"
          }
        },
        "007d7b91201c4d7383f7b25f4d93a315": {
          "model_module": "@jupyter-widgets/controls",
          "model_name": "FloatProgressModel",
          "model_module_version": "1.5.0",
          "state": {
            "_dom_classes": [],
            "_model_module": "@jupyter-widgets/controls",
            "_model_module_version": "1.5.0",
            "_model_name": "FloatProgressModel",
            "_view_count": null,
            "_view_module": "@jupyter-widgets/controls",
            "_view_module_version": "1.5.0",
            "_view_name": "ProgressView",
            "bar_style": "success",
            "description": "",
            "description_tooltip": null,
            "layout": "IPY_MODEL_0ae940c4f81f4be89bef37eda0cdaeed",
            "max": 570,
            "min": 0,
            "orientation": "horizontal",
            "style": "IPY_MODEL_948ea910dd8344ae886b207928d1ed07",
            "value": 570
          }
        },
        "eba0728065c540a882b0ec6c6fe241b2": {
          "model_module": "@jupyter-widgets/controls",
          "model_name": "HTMLModel",
          "model_module_version": "1.5.0",
          "state": {
            "_dom_classes": [],
            "_model_module": "@jupyter-widgets/controls",
            "_model_module_version": "1.5.0",
            "_model_name": "HTMLModel",
            "_view_count": null,
            "_view_module": "@jupyter-widgets/controls",
            "_view_module_version": "1.5.0",
            "_view_name": "HTMLView",
            "description": "",
            "description_tooltip": null,
            "layout": "IPY_MODEL_22a8048ddaf5420e803d5801b6252b4d",
            "placeholder": "​",
            "style": "IPY_MODEL_b1d18b89e7cc45d99f45f798e555edbf",
            "value": " 570/570 [00:00&lt;00:00, 22.1kB/s]"
          }
        },
        "1939d956d5ff4a51878ce86ffb9a567b": {
          "model_module": "@jupyter-widgets/base",
          "model_name": "LayoutModel",
          "model_module_version": "1.2.0",
          "state": {
            "_model_module": "@jupyter-widgets/base",
            "_model_module_version": "1.2.0",
            "_model_name": "LayoutModel",
            "_view_count": null,
            "_view_module": "@jupyter-widgets/base",
            "_view_module_version": "1.2.0",
            "_view_name": "LayoutView",
            "align_content": null,
            "align_items": null,
            "align_self": null,
            "border": null,
            "bottom": null,
            "display": null,
            "flex": null,
            "flex_flow": null,
            "grid_area": null,
            "grid_auto_columns": null,
            "grid_auto_flow": null,
            "grid_auto_rows": null,
            "grid_column": null,
            "grid_gap": null,
            "grid_row": null,
            "grid_template_areas": null,
            "grid_template_columns": null,
            "grid_template_rows": null,
            "height": null,
            "justify_content": null,
            "justify_items": null,
            "left": null,
            "margin": null,
            "max_height": null,
            "max_width": null,
            "min_height": null,
            "min_width": null,
            "object_fit": null,
            "object_position": null,
            "order": null,
            "overflow": null,
            "overflow_x": null,
            "overflow_y": null,
            "padding": null,
            "right": null,
            "top": null,
            "visibility": null,
            "width": null
          }
        },
        "a961cf8c82ba4fcf8dd4fa020fb22206": {
          "model_module": "@jupyter-widgets/base",
          "model_name": "LayoutModel",
          "model_module_version": "1.2.0",
          "state": {
            "_model_module": "@jupyter-widgets/base",
            "_model_module_version": "1.2.0",
            "_model_name": "LayoutModel",
            "_view_count": null,
            "_view_module": "@jupyter-widgets/base",
            "_view_module_version": "1.2.0",
            "_view_name": "LayoutView",
            "align_content": null,
            "align_items": null,
            "align_self": null,
            "border": null,
            "bottom": null,
            "display": null,
            "flex": null,
            "flex_flow": null,
            "grid_area": null,
            "grid_auto_columns": null,
            "grid_auto_flow": null,
            "grid_auto_rows": null,
            "grid_column": null,
            "grid_gap": null,
            "grid_row": null,
            "grid_template_areas": null,
            "grid_template_columns": null,
            "grid_template_rows": null,
            "height": null,
            "justify_content": null,
            "justify_items": null,
            "left": null,
            "margin": null,
            "max_height": null,
            "max_width": null,
            "min_height": null,
            "min_width": null,
            "object_fit": null,
            "object_position": null,
            "order": null,
            "overflow": null,
            "overflow_x": null,
            "overflow_y": null,
            "padding": null,
            "right": null,
            "top": null,
            "visibility": null,
            "width": null
          }
        },
        "cb4480f617e04e0f9cebef67406ecb9e": {
          "model_module": "@jupyter-widgets/controls",
          "model_name": "DescriptionStyleModel",
          "model_module_version": "1.5.0",
          "state": {
            "_model_module": "@jupyter-widgets/controls",
            "_model_module_version": "1.5.0",
            "_model_name": "DescriptionStyleModel",
            "_view_count": null,
            "_view_module": "@jupyter-widgets/base",
            "_view_module_version": "1.2.0",
            "_view_name": "StyleView",
            "description_width": ""
          }
        },
        "0ae940c4f81f4be89bef37eda0cdaeed": {
          "model_module": "@jupyter-widgets/base",
          "model_name": "LayoutModel",
          "model_module_version": "1.2.0",
          "state": {
            "_model_module": "@jupyter-widgets/base",
            "_model_module_version": "1.2.0",
            "_model_name": "LayoutModel",
            "_view_count": null,
            "_view_module": "@jupyter-widgets/base",
            "_view_module_version": "1.2.0",
            "_view_name": "LayoutView",
            "align_content": null,
            "align_items": null,
            "align_self": null,
            "border": null,
            "bottom": null,
            "display": null,
            "flex": null,
            "flex_flow": null,
            "grid_area": null,
            "grid_auto_columns": null,
            "grid_auto_flow": null,
            "grid_auto_rows": null,
            "grid_column": null,
            "grid_gap": null,
            "grid_row": null,
            "grid_template_areas": null,
            "grid_template_columns": null,
            "grid_template_rows": null,
            "height": null,
            "justify_content": null,
            "justify_items": null,
            "left": null,
            "margin": null,
            "max_height": null,
            "max_width": null,
            "min_height": null,
            "min_width": null,
            "object_fit": null,
            "object_position": null,
            "order": null,
            "overflow": null,
            "overflow_x": null,
            "overflow_y": null,
            "padding": null,
            "right": null,
            "top": null,
            "visibility": null,
            "width": null
          }
        },
        "948ea910dd8344ae886b207928d1ed07": {
          "model_module": "@jupyter-widgets/controls",
          "model_name": "ProgressStyleModel",
          "model_module_version": "1.5.0",
          "state": {
            "_model_module": "@jupyter-widgets/controls",
            "_model_module_version": "1.5.0",
            "_model_name": "ProgressStyleModel",
            "_view_count": null,
            "_view_module": "@jupyter-widgets/base",
            "_view_module_version": "1.2.0",
            "_view_name": "StyleView",
            "bar_color": null,
            "description_width": ""
          }
        },
        "22a8048ddaf5420e803d5801b6252b4d": {
          "model_module": "@jupyter-widgets/base",
          "model_name": "LayoutModel",
          "model_module_version": "1.2.0",
          "state": {
            "_model_module": "@jupyter-widgets/base",
            "_model_module_version": "1.2.0",
            "_model_name": "LayoutModel",
            "_view_count": null,
            "_view_module": "@jupyter-widgets/base",
            "_view_module_version": "1.2.0",
            "_view_name": "LayoutView",
            "align_content": null,
            "align_items": null,
            "align_self": null,
            "border": null,
            "bottom": null,
            "display": null,
            "flex": null,
            "flex_flow": null,
            "grid_area": null,
            "grid_auto_columns": null,
            "grid_auto_flow": null,
            "grid_auto_rows": null,
            "grid_column": null,
            "grid_gap": null,
            "grid_row": null,
            "grid_template_areas": null,
            "grid_template_columns": null,
            "grid_template_rows": null,
            "height": null,
            "justify_content": null,
            "justify_items": null,
            "left": null,
            "margin": null,
            "max_height": null,
            "max_width": null,
            "min_height": null,
            "min_width": null,
            "object_fit": null,
            "object_position": null,
            "order": null,
            "overflow": null,
            "overflow_x": null,
            "overflow_y": null,
            "padding": null,
            "right": null,
            "top": null,
            "visibility": null,
            "width": null
          }
        },
        "b1d18b89e7cc45d99f45f798e555edbf": {
          "model_module": "@jupyter-widgets/controls",
          "model_name": "DescriptionStyleModel",
          "model_module_version": "1.5.0",
          "state": {
            "_model_module": "@jupyter-widgets/controls",
            "_model_module_version": "1.5.0",
            "_model_name": "DescriptionStyleModel",
            "_view_count": null,
            "_view_module": "@jupyter-widgets/base",
            "_view_module_version": "1.2.0",
            "_view_name": "StyleView",
            "description_width": ""
          }
        },
        "47d84fe356094ad190cc645f2ff98c7b": {
          "model_module": "@jupyter-widgets/controls",
          "model_name": "HBoxModel",
          "model_module_version": "1.5.0",
          "state": {
            "_dom_classes": [],
            "_model_module": "@jupyter-widgets/controls",
            "_model_module_version": "1.5.0",
            "_model_name": "HBoxModel",
            "_view_count": null,
            "_view_module": "@jupyter-widgets/controls",
            "_view_module_version": "1.5.0",
            "_view_name": "HBoxView",
            "box_style": "",
            "children": [
              "IPY_MODEL_e0b4fbd2caca4f799015579639b04764",
              "IPY_MODEL_973bf3a680cb45b49d255564c436a22c",
              "IPY_MODEL_294f8d2b2c2c4ad3bdc05edea90f16ea"
            ],
            "layout": "IPY_MODEL_58d390a2725541aaa0418b1a5428a5e8"
          }
        },
        "e0b4fbd2caca4f799015579639b04764": {
          "model_module": "@jupyter-widgets/controls",
          "model_name": "HTMLModel",
          "model_module_version": "1.5.0",
          "state": {
            "_dom_classes": [],
            "_model_module": "@jupyter-widgets/controls",
            "_model_module_version": "1.5.0",
            "_model_name": "HTMLModel",
            "_view_count": null,
            "_view_module": "@jupyter-widgets/controls",
            "_view_module_version": "1.5.0",
            "_view_name": "HTMLView",
            "description": "",
            "description_tooltip": null,
            "layout": "IPY_MODEL_9c5da382e5194b73b1122e49d43d7ac4",
            "placeholder": "​",
            "style": "IPY_MODEL_06b28143a3e5476da8042c4c82528588",
            "value": "Downloading: 100%"
          }
        },
        "973bf3a680cb45b49d255564c436a22c": {
          "model_module": "@jupyter-widgets/controls",
          "model_name": "FloatProgressModel",
          "model_module_version": "1.5.0",
          "state": {
            "_dom_classes": [],
            "_model_module": "@jupyter-widgets/controls",
            "_model_module_version": "1.5.0",
            "_model_name": "FloatProgressModel",
            "_view_count": null,
            "_view_module": "@jupyter-widgets/controls",
            "_view_module_version": "1.5.0",
            "_view_name": "ProgressView",
            "bar_style": "success",
            "description": "",
            "description_tooltip": null,
            "layout": "IPY_MODEL_707261267074430b93c286d5e1969144",
            "max": 435779157,
            "min": 0,
            "orientation": "horizontal",
            "style": "IPY_MODEL_40e066d19a5d4d4c850039f5f0221030",
            "value": 435779157
          }
        },
        "294f8d2b2c2c4ad3bdc05edea90f16ea": {
          "model_module": "@jupyter-widgets/controls",
          "model_name": "HTMLModel",
          "model_module_version": "1.5.0",
          "state": {
            "_dom_classes": [],
            "_model_module": "@jupyter-widgets/controls",
            "_model_module_version": "1.5.0",
            "_model_name": "HTMLModel",
            "_view_count": null,
            "_view_module": "@jupyter-widgets/controls",
            "_view_module_version": "1.5.0",
            "_view_name": "HTMLView",
            "description": "",
            "description_tooltip": null,
            "layout": "IPY_MODEL_8c6656d51baf40ea9c1d9da090c78c60",
            "placeholder": "​",
            "style": "IPY_MODEL_a2eeb7ef1fe04581a7eb6f0fc6bedd7f",
            "value": " 436M/436M [00:06&lt;00:00, 64.2MB/s]"
          }
        },
        "58d390a2725541aaa0418b1a5428a5e8": {
          "model_module": "@jupyter-widgets/base",
          "model_name": "LayoutModel",
          "model_module_version": "1.2.0",
          "state": {
            "_model_module": "@jupyter-widgets/base",
            "_model_module_version": "1.2.0",
            "_model_name": "LayoutModel",
            "_view_count": null,
            "_view_module": "@jupyter-widgets/base",
            "_view_module_version": "1.2.0",
            "_view_name": "LayoutView",
            "align_content": null,
            "align_items": null,
            "align_self": null,
            "border": null,
            "bottom": null,
            "display": null,
            "flex": null,
            "flex_flow": null,
            "grid_area": null,
            "grid_auto_columns": null,
            "grid_auto_flow": null,
            "grid_auto_rows": null,
            "grid_column": null,
            "grid_gap": null,
            "grid_row": null,
            "grid_template_areas": null,
            "grid_template_columns": null,
            "grid_template_rows": null,
            "height": null,
            "justify_content": null,
            "justify_items": null,
            "left": null,
            "margin": null,
            "max_height": null,
            "max_width": null,
            "min_height": null,
            "min_width": null,
            "object_fit": null,
            "object_position": null,
            "order": null,
            "overflow": null,
            "overflow_x": null,
            "overflow_y": null,
            "padding": null,
            "right": null,
            "top": null,
            "visibility": null,
            "width": null
          }
        },
        "9c5da382e5194b73b1122e49d43d7ac4": {
          "model_module": "@jupyter-widgets/base",
          "model_name": "LayoutModel",
          "model_module_version": "1.2.0",
          "state": {
            "_model_module": "@jupyter-widgets/base",
            "_model_module_version": "1.2.0",
            "_model_name": "LayoutModel",
            "_view_count": null,
            "_view_module": "@jupyter-widgets/base",
            "_view_module_version": "1.2.0",
            "_view_name": "LayoutView",
            "align_content": null,
            "align_items": null,
            "align_self": null,
            "border": null,
            "bottom": null,
            "display": null,
            "flex": null,
            "flex_flow": null,
            "grid_area": null,
            "grid_auto_columns": null,
            "grid_auto_flow": null,
            "grid_auto_rows": null,
            "grid_column": null,
            "grid_gap": null,
            "grid_row": null,
            "grid_template_areas": null,
            "grid_template_columns": null,
            "grid_template_rows": null,
            "height": null,
            "justify_content": null,
            "justify_items": null,
            "left": null,
            "margin": null,
            "max_height": null,
            "max_width": null,
            "min_height": null,
            "min_width": null,
            "object_fit": null,
            "object_position": null,
            "order": null,
            "overflow": null,
            "overflow_x": null,
            "overflow_y": null,
            "padding": null,
            "right": null,
            "top": null,
            "visibility": null,
            "width": null
          }
        },
        "06b28143a3e5476da8042c4c82528588": {
          "model_module": "@jupyter-widgets/controls",
          "model_name": "DescriptionStyleModel",
          "model_module_version": "1.5.0",
          "state": {
            "_model_module": "@jupyter-widgets/controls",
            "_model_module_version": "1.5.0",
            "_model_name": "DescriptionStyleModel",
            "_view_count": null,
            "_view_module": "@jupyter-widgets/base",
            "_view_module_version": "1.2.0",
            "_view_name": "StyleView",
            "description_width": ""
          }
        },
        "707261267074430b93c286d5e1969144": {
          "model_module": "@jupyter-widgets/base",
          "model_name": "LayoutModel",
          "model_module_version": "1.2.0",
          "state": {
            "_model_module": "@jupyter-widgets/base",
            "_model_module_version": "1.2.0",
            "_model_name": "LayoutModel",
            "_view_count": null,
            "_view_module": "@jupyter-widgets/base",
            "_view_module_version": "1.2.0",
            "_view_name": "LayoutView",
            "align_content": null,
            "align_items": null,
            "align_self": null,
            "border": null,
            "bottom": null,
            "display": null,
            "flex": null,
            "flex_flow": null,
            "grid_area": null,
            "grid_auto_columns": null,
            "grid_auto_flow": null,
            "grid_auto_rows": null,
            "grid_column": null,
            "grid_gap": null,
            "grid_row": null,
            "grid_template_areas": null,
            "grid_template_columns": null,
            "grid_template_rows": null,
            "height": null,
            "justify_content": null,
            "justify_items": null,
            "left": null,
            "margin": null,
            "max_height": null,
            "max_width": null,
            "min_height": null,
            "min_width": null,
            "object_fit": null,
            "object_position": null,
            "order": null,
            "overflow": null,
            "overflow_x": null,
            "overflow_y": null,
            "padding": null,
            "right": null,
            "top": null,
            "visibility": null,
            "width": null
          }
        },
        "40e066d19a5d4d4c850039f5f0221030": {
          "model_module": "@jupyter-widgets/controls",
          "model_name": "ProgressStyleModel",
          "model_module_version": "1.5.0",
          "state": {
            "_model_module": "@jupyter-widgets/controls",
            "_model_module_version": "1.5.0",
            "_model_name": "ProgressStyleModel",
            "_view_count": null,
            "_view_module": "@jupyter-widgets/base",
            "_view_module_version": "1.2.0",
            "_view_name": "StyleView",
            "bar_color": null,
            "description_width": ""
          }
        },
        "8c6656d51baf40ea9c1d9da090c78c60": {
          "model_module": "@jupyter-widgets/base",
          "model_name": "LayoutModel",
          "model_module_version": "1.2.0",
          "state": {
            "_model_module": "@jupyter-widgets/base",
            "_model_module_version": "1.2.0",
            "_model_name": "LayoutModel",
            "_view_count": null,
            "_view_module": "@jupyter-widgets/base",
            "_view_module_version": "1.2.0",
            "_view_name": "LayoutView",
            "align_content": null,
            "align_items": null,
            "align_self": null,
            "border": null,
            "bottom": null,
            "display": null,
            "flex": null,
            "flex_flow": null,
            "grid_area": null,
            "grid_auto_columns": null,
            "grid_auto_flow": null,
            "grid_auto_rows": null,
            "grid_column": null,
            "grid_gap": null,
            "grid_row": null,
            "grid_template_areas": null,
            "grid_template_columns": null,
            "grid_template_rows": null,
            "height": null,
            "justify_content": null,
            "justify_items": null,
            "left": null,
            "margin": null,
            "max_height": null,
            "max_width": null,
            "min_height": null,
            "min_width": null,
            "object_fit": null,
            "object_position": null,
            "order": null,
            "overflow": null,
            "overflow_x": null,
            "overflow_y": null,
            "padding": null,
            "right": null,
            "top": null,
            "visibility": null,
            "width": null
          }
        },
        "a2eeb7ef1fe04581a7eb6f0fc6bedd7f": {
          "model_module": "@jupyter-widgets/controls",
          "model_name": "DescriptionStyleModel",
          "model_module_version": "1.5.0",
          "state": {
            "_model_module": "@jupyter-widgets/controls",
            "_model_module_version": "1.5.0",
            "_model_name": "DescriptionStyleModel",
            "_view_count": null,
            "_view_module": "@jupyter-widgets/base",
            "_view_module_version": "1.2.0",
            "_view_name": "StyleView",
            "description_width": ""
          }
        }
      }
    }
  },
  "nbformat": 4,
  "nbformat_minor": 0
}